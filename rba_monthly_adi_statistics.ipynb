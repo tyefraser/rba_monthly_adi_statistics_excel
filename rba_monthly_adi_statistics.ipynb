{
 "cells": [
  {
   "cell_type": "code",
   "execution_count": 1,
   "metadata": {},
   "outputs": [],
   "source": [
    "# %pip install openpyxl\n",
    "# %pip install --upgrade openpyxl\n",
    "# %pip install plotly\n",
    "# %pip install matplotlib\n",
    "# %pip install nbformat\n",
    "# %pip install dash\n",
    "\n",
    "%load_ext autoreload\n",
    "%autoreload 2\n",
    "\n",
    "# sys.path.insert(1, '../')"
   ]
  },
  {
   "cell_type": "code",
   "execution_count": 2,
   "metadata": {},
   "outputs": [
    {
     "name": "stderr",
     "output_type": "stream",
     "text": [
      "C:\\Users\\tyewf\\AppData\\Local\\Temp\\ipykernel_23676\\2956845767.py:1: DeprecationWarning: \n",
      "Pyarrow will become a required dependency of pandas in the next major release of pandas (pandas 3.0),\n",
      "(to allow more performant data types, such as the Arrow string type, and better interoperability with other libraries)\n",
      "but was not found to be installed on your system.\n",
      "If this would cause problems for you,\n",
      "please provide us feedback at https://github.com/pandas-dev/pandas/issues/54466\n",
      "        \n",
      "  import pandas as pd\n"
     ]
    }
   ],
   "source": [
    "import pandas as pd\n",
    "\n",
    "from datetime import date\n",
    "#from typing import int, float, str"
   ]
  },
  {
   "cell_type": "code",
   "execution_count": 3,
   "metadata": {},
   "outputs": [],
   "source": [
    "from pd_data_frame_checks import convert_columns_by_type\n",
    "from pd_data_frame_checks import convert_columns_dict_type_allocation\n",
    "from pd_data_frame_checks import check_columns_existence\n",
    "\n",
    "from rba_monthly_adi_statistics import main\n",
    "from process_specific_bank.process_specific_bank import specific_bank_calculations\n",
    "\n",
    "from utils import read_yaml"
   ]
  },
  {
   "cell_type": "code",
   "execution_count": 4,
   "metadata": {},
   "outputs": [
    {
     "name": "stdout",
     "output_type": "stream",
     "text": [
      "hi\n"
     ]
    }
   ],
   "source": [
    "result = main(\n",
    "        file_name = 'data/Monthly authorised deposit-taking institution statistics back-series March 2019 - December 2023.xlsx',\n",
    "        sheet_name = 'Table 1',\n",
    "        skiprows = 1,\n",
    "        specific_bank_names_list = ['Macquarie Bank Limited'],\n",
    "        processes_to_run = ['all'],\n",
    "        date_column = 'Period',\n",
    ")"
   ]
  },
  {
   "cell_type": "markdown",
   "metadata": {},
   "source": [
    "# Run using shell"
   ]
  },
  {
   "cell_type": "code",
   "execution_count": 13,
   "metadata": {},
   "outputs": [
    {
     "name": "stdout",
     "output_type": "stream",
     "text": [
      "hi\n"
     ]
    },
    {
     "name": "stderr",
     "output_type": "stream",
     "text": [
      "c:\\Users\\tyewf\\github_projects\\rba_monthly_adi_statistics\\rba_monthly_adi_statistics.py:1: DeprecationWarning: \n",
      "Pyarrow will become a required dependency of pandas in the next major release of pandas (pandas 3.0),\n",
      "(to allow more performant data types, such as the Arrow string type, and better interoperability with other libraries)\n",
      "but was not found to be installed on your system.\n",
      "If this would cause problems for you,\n",
      "please provide us feedback at https://github.com/pandas-dev/pandas/issues/54466\n",
      "        \n",
      "  import pandas as pd\n"
     ]
    }
   ],
   "source": [
    "!python rba_monthly_adi_statistics.py"
   ]
  },
  {
   "cell_type": "markdown",
   "metadata": {},
   "source": [
    "# Run individual scripts"
   ]
  },
  {
   "cell_type": "code",
   "execution_count": 5,
   "metadata": {},
   "outputs": [],
   "source": [
    "import logging\n",
    "logger = logging.getLogger(__name__)"
   ]
  },
  {
   "cell_type": "code",
   "execution_count": 6,
   "metadata": {},
   "outputs": [],
   "source": [
    "# Arguments\n",
    "file_name: str = 'data/Monthly authorised deposit-taking institution statistics back-series March 2019 - December 2023.xlsx'\n",
    "sheet_name: str = 'Table 1'\n",
    "skiprows: int = 1\n",
    "processes_to_run: list = ['all']\n",
    "specific_bank_names_list: str = ['Macquarie Bank Limited']\n",
    "date_column: str = 'Period'"
   ]
  },
  {
   "cell_type": "code",
   "execution_count": 7,
   "metadata": {},
   "outputs": [],
   "source": [
    "# Needed to run to get initial data\n",
    "from rba_monthly_adi_statistics import read_and_process_data\n",
    "\n",
    "# Read config\n",
    "config_dict = read_yaml(file_path = 'config.yaml')\n",
    "\n",
    "# Read and process data\n",
    "rba_monthly_stats_df = read_and_process_data(\n",
    "    config_dict=config_dict,\n",
    "    file_name=file_name,\n",
    "    sheet_name=sheet_name,\n",
    "    skiprows=skiprows,\n",
    "    date_column=date_column,        \n",
    ")\n",
    "\n",
    "# Melt the DataFrame to convert from wide to long format\n",
    "id_cols = ['Period', 'ABN', 'Institution Name']\n",
    "narrow_rba_monthly_stats_df = pd.melt(rba_monthly_stats_df, id_vars=id_cols, var_name='Variable', value_name='Value')"
   ]
  },
  {
   "cell_type": "markdown",
   "metadata": {},
   "source": [
    "# Aggregate Bank Statistics"
   ]
  },
  {
   "cell_type": "code",
   "execution_count": 8,
   "metadata": {},
   "outputs": [],
   "source": [
    "import plotly.express as px\n",
    "\n",
    "from aggregate_bank_statistics.aggregate_bank_stats import aggregate_bank_stats_fn\n",
    "\n",
    "from utils_dataframe_calcs import filter_dataframe_by_values\n",
    "from utils_dataframe_calcs import df_column_movements, df_column_movements_multiple\n",
    "\n",
    "from utils_visualise_data import plot_column_graph_plotly"
   ]
  },
  {
   "cell_type": "code",
   "execution_count": 23,
   "metadata": {},
   "outputs": [],
   "source": [
    "aggregate_bank_stats_df=aggregate_bank_stats_fn(narrow_rba_monthly_stats_df=narrow_rba_monthly_stats_df)"
   ]
  },
  {
   "cell_type": "code",
   "execution_count": 10,
   "metadata": {},
   "outputs": [
    {
     "data": {
      "application/vnd.plotly.v1+json": {
       "config": {
        "plotlyServerURL": "https://plot.ly"
       },
       "data": [
        {
         "alignmentgroup": "True",
         "hovertemplate": "Date=%{x}<br>Value=%{y}<extra></extra>",
         "legendgroup": "",
         "marker": {
          "color": "#636efa",
          "pattern": {
           "shape": ""
          }
         },
         "name": "",
         "offsetgroup": "",
         "orientation": "v",
         "showlegend": false,
         "textposition": "auto",
         "type": "bar",
         "x": [
          "2019-03-31T00:00:00",
          "2019-04-30T00:00:00",
          "2019-05-31T00:00:00",
          "2019-06-30T00:00:00",
          "2019-07-31T00:00:00",
          "2019-08-31T00:00:00",
          "2019-09-30T00:00:00",
          "2019-10-31T00:00:00",
          "2019-11-30T00:00:00",
          "2019-12-31T00:00:00",
          "2020-01-31T00:00:00",
          "2020-02-29T00:00:00",
          "2020-03-31T00:00:00",
          "2020-04-30T00:00:00",
          "2020-05-31T00:00:00",
          "2020-06-30T00:00:00",
          "2020-07-31T00:00:00",
          "2020-08-31T00:00:00",
          "2020-09-30T00:00:00",
          "2020-10-31T00:00:00",
          "2020-11-30T00:00:00",
          "2020-12-31T00:00:00",
          "2021-01-31T00:00:00",
          "2021-02-28T00:00:00",
          "2021-03-31T00:00:00",
          "2021-04-30T00:00:00",
          "2021-05-31T00:00:00",
          "2021-06-30T00:00:00",
          "2021-07-31T00:00:00",
          "2021-08-31T00:00:00",
          "2021-09-30T00:00:00",
          "2021-10-31T00:00:00",
          "2021-11-30T00:00:00",
          "2021-12-31T00:00:00",
          "2022-01-31T00:00:00",
          "2022-02-28T00:00:00",
          "2022-03-31T00:00:00",
          "2022-04-30T00:00:00",
          "2022-05-31T00:00:00",
          "2022-06-30T00:00:00",
          "2022-07-31T00:00:00",
          "2022-08-31T00:00:00",
          "2022-09-30T00:00:00",
          "2022-10-31T00:00:00",
          "2022-11-30T00:00:00",
          "2022-12-31T00:00:00",
          "2023-01-31T00:00:00",
          "2023-02-28T00:00:00",
          "2023-03-31T00:00:00",
          "2023-04-30T00:00:00",
          "2023-05-31T00:00:00",
          "2023-06-30T00:00:00",
          "2023-07-31T00:00:00",
          "2023-08-31T00:00:00",
          "2023-09-30T00:00:00",
          "2023-10-31T00:00:00",
          "2023-11-30T00:00:00",
          "2023-12-31T00:00:00"
         ],
         "xaxis": "x",
         "y": [
          125,
          126,
          126,
          126,
          127,
          127,
          128,
          127,
          126,
          126,
          126,
          126,
          125,
          125,
          124,
          124,
          124,
          124,
          124,
          124,
          125,
          126,
          125,
          125,
          125,
          125,
          125,
          124,
          124,
          124,
          124,
          124,
          124,
          128,
          129,
          128,
          128,
          128,
          128,
          126,
          126,
          126,
          126,
          125,
          125,
          126,
          126,
          127,
          125,
          125,
          126,
          126,
          126,
          126,
          126,
          126,
          126,
          126
         ],
         "yaxis": "y"
        }
       ],
       "layout": {
        "barmode": "relative",
        "legend": {
         "tracegroupgap": 0
        },
        "template": {
         "data": {
          "bar": [
           {
            "error_x": {
             "color": "#2a3f5f"
            },
            "error_y": {
             "color": "#2a3f5f"
            },
            "marker": {
             "line": {
              "color": "#E5ECF6",
              "width": 0.5
             },
             "pattern": {
              "fillmode": "overlay",
              "size": 10,
              "solidity": 0.2
             }
            },
            "type": "bar"
           }
          ],
          "barpolar": [
           {
            "marker": {
             "line": {
              "color": "#E5ECF6",
              "width": 0.5
             },
             "pattern": {
              "fillmode": "overlay",
              "size": 10,
              "solidity": 0.2
             }
            },
            "type": "barpolar"
           }
          ],
          "carpet": [
           {
            "aaxis": {
             "endlinecolor": "#2a3f5f",
             "gridcolor": "white",
             "linecolor": "white",
             "minorgridcolor": "white",
             "startlinecolor": "#2a3f5f"
            },
            "baxis": {
             "endlinecolor": "#2a3f5f",
             "gridcolor": "white",
             "linecolor": "white",
             "minorgridcolor": "white",
             "startlinecolor": "#2a3f5f"
            },
            "type": "carpet"
           }
          ],
          "choropleth": [
           {
            "colorbar": {
             "outlinewidth": 0,
             "ticks": ""
            },
            "type": "choropleth"
           }
          ],
          "contour": [
           {
            "colorbar": {
             "outlinewidth": 0,
             "ticks": ""
            },
            "colorscale": [
             [
              0,
              "#0d0887"
             ],
             [
              0.1111111111111111,
              "#46039f"
             ],
             [
              0.2222222222222222,
              "#7201a8"
             ],
             [
              0.3333333333333333,
              "#9c179e"
             ],
             [
              0.4444444444444444,
              "#bd3786"
             ],
             [
              0.5555555555555556,
              "#d8576b"
             ],
             [
              0.6666666666666666,
              "#ed7953"
             ],
             [
              0.7777777777777778,
              "#fb9f3a"
             ],
             [
              0.8888888888888888,
              "#fdca26"
             ],
             [
              1,
              "#f0f921"
             ]
            ],
            "type": "contour"
           }
          ],
          "contourcarpet": [
           {
            "colorbar": {
             "outlinewidth": 0,
             "ticks": ""
            },
            "type": "contourcarpet"
           }
          ],
          "heatmap": [
           {
            "colorbar": {
             "outlinewidth": 0,
             "ticks": ""
            },
            "colorscale": [
             [
              0,
              "#0d0887"
             ],
             [
              0.1111111111111111,
              "#46039f"
             ],
             [
              0.2222222222222222,
              "#7201a8"
             ],
             [
              0.3333333333333333,
              "#9c179e"
             ],
             [
              0.4444444444444444,
              "#bd3786"
             ],
             [
              0.5555555555555556,
              "#d8576b"
             ],
             [
              0.6666666666666666,
              "#ed7953"
             ],
             [
              0.7777777777777778,
              "#fb9f3a"
             ],
             [
              0.8888888888888888,
              "#fdca26"
             ],
             [
              1,
              "#f0f921"
             ]
            ],
            "type": "heatmap"
           }
          ],
          "heatmapgl": [
           {
            "colorbar": {
             "outlinewidth": 0,
             "ticks": ""
            },
            "colorscale": [
             [
              0,
              "#0d0887"
             ],
             [
              0.1111111111111111,
              "#46039f"
             ],
             [
              0.2222222222222222,
              "#7201a8"
             ],
             [
              0.3333333333333333,
              "#9c179e"
             ],
             [
              0.4444444444444444,
              "#bd3786"
             ],
             [
              0.5555555555555556,
              "#d8576b"
             ],
             [
              0.6666666666666666,
              "#ed7953"
             ],
             [
              0.7777777777777778,
              "#fb9f3a"
             ],
             [
              0.8888888888888888,
              "#fdca26"
             ],
             [
              1,
              "#f0f921"
             ]
            ],
            "type": "heatmapgl"
           }
          ],
          "histogram": [
           {
            "marker": {
             "pattern": {
              "fillmode": "overlay",
              "size": 10,
              "solidity": 0.2
             }
            },
            "type": "histogram"
           }
          ],
          "histogram2d": [
           {
            "colorbar": {
             "outlinewidth": 0,
             "ticks": ""
            },
            "colorscale": [
             [
              0,
              "#0d0887"
             ],
             [
              0.1111111111111111,
              "#46039f"
             ],
             [
              0.2222222222222222,
              "#7201a8"
             ],
             [
              0.3333333333333333,
              "#9c179e"
             ],
             [
              0.4444444444444444,
              "#bd3786"
             ],
             [
              0.5555555555555556,
              "#d8576b"
             ],
             [
              0.6666666666666666,
              "#ed7953"
             ],
             [
              0.7777777777777778,
              "#fb9f3a"
             ],
             [
              0.8888888888888888,
              "#fdca26"
             ],
             [
              1,
              "#f0f921"
             ]
            ],
            "type": "histogram2d"
           }
          ],
          "histogram2dcontour": [
           {
            "colorbar": {
             "outlinewidth": 0,
             "ticks": ""
            },
            "colorscale": [
             [
              0,
              "#0d0887"
             ],
             [
              0.1111111111111111,
              "#46039f"
             ],
             [
              0.2222222222222222,
              "#7201a8"
             ],
             [
              0.3333333333333333,
              "#9c179e"
             ],
             [
              0.4444444444444444,
              "#bd3786"
             ],
             [
              0.5555555555555556,
              "#d8576b"
             ],
             [
              0.6666666666666666,
              "#ed7953"
             ],
             [
              0.7777777777777778,
              "#fb9f3a"
             ],
             [
              0.8888888888888888,
              "#fdca26"
             ],
             [
              1,
              "#f0f921"
             ]
            ],
            "type": "histogram2dcontour"
           }
          ],
          "mesh3d": [
           {
            "colorbar": {
             "outlinewidth": 0,
             "ticks": ""
            },
            "type": "mesh3d"
           }
          ],
          "parcoords": [
           {
            "line": {
             "colorbar": {
              "outlinewidth": 0,
              "ticks": ""
             }
            },
            "type": "parcoords"
           }
          ],
          "pie": [
           {
            "automargin": true,
            "type": "pie"
           }
          ],
          "scatter": [
           {
            "fillpattern": {
             "fillmode": "overlay",
             "size": 10,
             "solidity": 0.2
            },
            "type": "scatter"
           }
          ],
          "scatter3d": [
           {
            "line": {
             "colorbar": {
              "outlinewidth": 0,
              "ticks": ""
             }
            },
            "marker": {
             "colorbar": {
              "outlinewidth": 0,
              "ticks": ""
             }
            },
            "type": "scatter3d"
           }
          ],
          "scattercarpet": [
           {
            "marker": {
             "colorbar": {
              "outlinewidth": 0,
              "ticks": ""
             }
            },
            "type": "scattercarpet"
           }
          ],
          "scattergeo": [
           {
            "marker": {
             "colorbar": {
              "outlinewidth": 0,
              "ticks": ""
             }
            },
            "type": "scattergeo"
           }
          ],
          "scattergl": [
           {
            "marker": {
             "colorbar": {
              "outlinewidth": 0,
              "ticks": ""
             }
            },
            "type": "scattergl"
           }
          ],
          "scattermapbox": [
           {
            "marker": {
             "colorbar": {
              "outlinewidth": 0,
              "ticks": ""
             }
            },
            "type": "scattermapbox"
           }
          ],
          "scatterpolar": [
           {
            "marker": {
             "colorbar": {
              "outlinewidth": 0,
              "ticks": ""
             }
            },
            "type": "scatterpolar"
           }
          ],
          "scatterpolargl": [
           {
            "marker": {
             "colorbar": {
              "outlinewidth": 0,
              "ticks": ""
             }
            },
            "type": "scatterpolargl"
           }
          ],
          "scatterternary": [
           {
            "marker": {
             "colorbar": {
              "outlinewidth": 0,
              "ticks": ""
             }
            },
            "type": "scatterternary"
           }
          ],
          "surface": [
           {
            "colorbar": {
             "outlinewidth": 0,
             "ticks": ""
            },
            "colorscale": [
             [
              0,
              "#0d0887"
             ],
             [
              0.1111111111111111,
              "#46039f"
             ],
             [
              0.2222222222222222,
              "#7201a8"
             ],
             [
              0.3333333333333333,
              "#9c179e"
             ],
             [
              0.4444444444444444,
              "#bd3786"
             ],
             [
              0.5555555555555556,
              "#d8576b"
             ],
             [
              0.6666666666666666,
              "#ed7953"
             ],
             [
              0.7777777777777778,
              "#fb9f3a"
             ],
             [
              0.8888888888888888,
              "#fdca26"
             ],
             [
              1,
              "#f0f921"
             ]
            ],
            "type": "surface"
           }
          ],
          "table": [
           {
            "cells": {
             "fill": {
              "color": "#EBF0F8"
             },
             "line": {
              "color": "white"
             }
            },
            "header": {
             "fill": {
              "color": "#C8D4E3"
             },
             "line": {
              "color": "white"
             }
            },
            "type": "table"
           }
          ]
         },
         "layout": {
          "annotationdefaults": {
           "arrowcolor": "#2a3f5f",
           "arrowhead": 0,
           "arrowwidth": 1
          },
          "autotypenumbers": "strict",
          "coloraxis": {
           "colorbar": {
            "outlinewidth": 0,
            "ticks": ""
           }
          },
          "colorscale": {
           "diverging": [
            [
             0,
             "#8e0152"
            ],
            [
             0.1,
             "#c51b7d"
            ],
            [
             0.2,
             "#de77ae"
            ],
            [
             0.3,
             "#f1b6da"
            ],
            [
             0.4,
             "#fde0ef"
            ],
            [
             0.5,
             "#f7f7f7"
            ],
            [
             0.6,
             "#e6f5d0"
            ],
            [
             0.7,
             "#b8e186"
            ],
            [
             0.8,
             "#7fbc41"
            ],
            [
             0.9,
             "#4d9221"
            ],
            [
             1,
             "#276419"
            ]
           ],
           "sequential": [
            [
             0,
             "#0d0887"
            ],
            [
             0.1111111111111111,
             "#46039f"
            ],
            [
             0.2222222222222222,
             "#7201a8"
            ],
            [
             0.3333333333333333,
             "#9c179e"
            ],
            [
             0.4444444444444444,
             "#bd3786"
            ],
            [
             0.5555555555555556,
             "#d8576b"
            ],
            [
             0.6666666666666666,
             "#ed7953"
            ],
            [
             0.7777777777777778,
             "#fb9f3a"
            ],
            [
             0.8888888888888888,
             "#fdca26"
            ],
            [
             1,
             "#f0f921"
            ]
           ],
           "sequentialminus": [
            [
             0,
             "#0d0887"
            ],
            [
             0.1111111111111111,
             "#46039f"
            ],
            [
             0.2222222222222222,
             "#7201a8"
            ],
            [
             0.3333333333333333,
             "#9c179e"
            ],
            [
             0.4444444444444444,
             "#bd3786"
            ],
            [
             0.5555555555555556,
             "#d8576b"
            ],
            [
             0.6666666666666666,
             "#ed7953"
            ],
            [
             0.7777777777777778,
             "#fb9f3a"
            ],
            [
             0.8888888888888888,
             "#fdca26"
            ],
            [
             1,
             "#f0f921"
            ]
           ]
          },
          "colorway": [
           "#636efa",
           "#EF553B",
           "#00cc96",
           "#ab63fa",
           "#FFA15A",
           "#19d3f3",
           "#FF6692",
           "#B6E880",
           "#FF97FF",
           "#FECB52"
          ],
          "font": {
           "color": "#2a3f5f"
          },
          "geo": {
           "bgcolor": "white",
           "lakecolor": "white",
           "landcolor": "#E5ECF6",
           "showlakes": true,
           "showland": true,
           "subunitcolor": "white"
          },
          "hoverlabel": {
           "align": "left"
          },
          "hovermode": "closest",
          "mapbox": {
           "style": "light"
          },
          "paper_bgcolor": "white",
          "plot_bgcolor": "#E5ECF6",
          "polar": {
           "angularaxis": {
            "gridcolor": "white",
            "linecolor": "white",
            "ticks": ""
           },
           "bgcolor": "#E5ECF6",
           "radialaxis": {
            "gridcolor": "white",
            "linecolor": "white",
            "ticks": ""
           }
          },
          "scene": {
           "xaxis": {
            "backgroundcolor": "#E5ECF6",
            "gridcolor": "white",
            "gridwidth": 2,
            "linecolor": "white",
            "showbackground": true,
            "ticks": "",
            "zerolinecolor": "white"
           },
           "yaxis": {
            "backgroundcolor": "#E5ECF6",
            "gridcolor": "white",
            "gridwidth": 2,
            "linecolor": "white",
            "showbackground": true,
            "ticks": "",
            "zerolinecolor": "white"
           },
           "zaxis": {
            "backgroundcolor": "#E5ECF6",
            "gridcolor": "white",
            "gridwidth": 2,
            "linecolor": "white",
            "showbackground": true,
            "ticks": "",
            "zerolinecolor": "white"
           }
          },
          "shapedefaults": {
           "line": {
            "color": "#2a3f5f"
           }
          },
          "ternary": {
           "aaxis": {
            "gridcolor": "white",
            "linecolor": "white",
            "ticks": ""
           },
           "baxis": {
            "gridcolor": "white",
            "linecolor": "white",
            "ticks": ""
           },
           "bgcolor": "#E5ECF6",
           "caxis": {
            "gridcolor": "white",
            "linecolor": "white",
            "ticks": ""
           }
          },
          "title": {
           "x": 0.05
          },
          "xaxis": {
           "automargin": true,
           "gridcolor": "white",
           "linecolor": "white",
           "ticks": "",
           "title": {
            "standoff": 15
           },
           "zerolinecolor": "white",
           "zerolinewidth": 2
          },
          "yaxis": {
           "automargin": true,
           "gridcolor": "white",
           "linecolor": "white",
           "ticks": "",
           "title": {
            "standoff": 15
           },
           "zerolinecolor": "white",
           "zerolinewidth": 2
          }
         }
        },
        "title": {
         "text": "Column Graph"
        },
        "xaxis": {
         "anchor": "y",
         "domain": [
          0,
          1
         ],
         "tickmode": "linear",
         "title": {
          "text": "Date"
         },
         "type": "category"
        },
        "yaxis": {
         "anchor": "x",
         "domain": [
          0,
          1
         ],
         "title": {
          "text": "Value"
         }
        }
       }
      }
     },
     "metadata": {},
     "output_type": "display_data"
    }
   ],
   "source": [
    "plot_column_graph_plotly(\n",
    "    date_column=df['Period'],\n",
    "    value_column=df['Entities - count'],\n",
    "    title='Column Graph',\n",
    "    xlabel='Date',\n",
    "    ylabel='Value')"
   ]
  },
  {
   "cell_type": "code",
   "execution_count": 11,
   "metadata": {},
   "outputs": [
    {
     "data": {
      "image/png": "[encoded data removed]",
      "text/plain": [
       "<Figure size 1000x600 with 1 Axes>"
      ]
     },
     "metadata": {},
     "output_type": "display_data"
    }
   ],
   "source": [
    "from utils_visualise_data import plot_column_graph\n",
    "\n",
    "# Example usage:\n",
    "# Replace date_series and value_series with your actual date and value columns\n",
    "#date_series = pd.to_datetime(['2022-01-01', '2022-02-01', '2022-03-01'])\n",
    "#value_series = [10, 15, 20]\n",
    "\n",
    "plot_column_graph(\n",
    "    date_column=df['Period'],\n",
    "    value_column=df['Entities - count'],\n",
    "    title='Example Column Graph',\n",
    "    xlabel='Date',\n",
    "    ylabel='Value')"
   ]
  },
  {
   "cell_type": "code",
   "execution_count": 12,
   "metadata": {},
   "outputs": [],
   "source": [
    "mvmts=df_column_movements(\n",
    "    df=df,\n",
    "    column_name='Cash - Monthly totals',\n",
    "    new_col_suffix='MoM Movement ($)'\n",
    ")\n"
   ]
  },
  {
   "cell_type": "code",
   "execution_count": 21,
   "metadata": {},
   "outputs": [
    {
     "data": {
      "text/html": [
       "\n",
       "        <iframe\n",
       "            width=\"100%\"\n",
       "            height=\"650\"\n",
       "            src=\"http://127.0.0.1:8050/\"\n",
       "            frameborder=\"0\"\n",
       "            allowfullscreen\n",
       "            \n",
       "        ></iframe>\n",
       "        "
      ],
      "text/plain": [
       "<IPython.lib.display.IFrame at 0x211a4c99810>"
      ]
     },
     "metadata": {},
     "output_type": "display_data"
    }
   ],
   "source": [
    "# Install the required libraries if you haven't already\n",
    "# pip install dash dash-bootstrap-components pandas plotly\n",
    "\n",
    "import dash\n",
    "# import dash_core_components as dcc # depricated\n",
    "from dash import dcc\n",
    "import dash_html_components as html\n",
    "from dash.dependencies import Input, Output\n",
    "import pandas as pd\n",
    "import plotly.express as px\n",
    "\n",
    "\n",
    "# Sample data\n",
    "df = pd.DataFrame({\n",
    "    'Date': pd.date_range(start='2022-01-01', periods=10, freq='D'),\n",
    "    'Value': [10, 15, 20, 25, 30, 35, 40, 45, 50, 55]\n",
    "})\n",
    "\n",
    "# Initialize the Dash app\n",
    "app = dash.Dash(__name__)\n",
    "\n",
    "# Define the layout of the app\n",
    "app.layout = html.Div([\n",
    "    html.H1(\"Interactive Dashboard\"),\n",
    "    \n",
    "    dcc.Graph(id='line-plot'),\n",
    "    \n",
    "    dcc.RangeSlider(\n",
    "        id='date-range-slider',\n",
    "        marks={i: date.strftime('%Y-%m-%d') for i, date in enumerate(df['Date'])},\n",
    "        min=0,\n",
    "        max=len(df['Date']) - 1,\n",
    "        value=[0, len(df['Date']) - 1],\n",
    "        step=1\n",
    "    )\n",
    "])\n",
    "\n",
    "# Define callback to update the plot based on the date range slider\n",
    "@app.callback(\n",
    "    Output('line-plot', 'figure'),\n",
    "    [Input('date-range-slider', 'value')]\n",
    ")\n",
    "def update_plot(selected_date_range):\n",
    "    start_idx, end_idx = selected_date_range\n",
    "    filtered_df = df.iloc[start_idx:end_idx + 1]\n",
    "    \n",
    "    fig = px.line(filtered_df, x='Date', y='Value', title='Filtered Line Plot')\n",
    "    \n",
    "    return fig\n",
    "\n",
    "# Run the app\n",
    "if __name__ == '__main__':\n",
    "    app.run_server(debug=True)\n"
   ]
  },
  {
   "cell_type": "code",
   "execution_count": 14,
   "metadata": {},
   "outputs": [
    {
     "data": {
      "text/html": [
       "\n",
       "        <iframe\n",
       "            width=\"100%\"\n",
       "            height=\"650\"\n",
       "            src=\"http://127.0.0.1:8050/\"\n",
       "            frameborder=\"0\"\n",
       "            allowfullscreen\n",
       "            \n",
       "        ></iframe>\n",
       "        "
      ],
      "text/plain": [
       "<IPython.lib.display.IFrame at 0x2119ebbe650>"
      ]
     },
     "metadata": {},
     "output_type": "display_data"
    }
   ],
   "source": [
    "# Install the required libraries if you haven't already\n",
    "# pip install dash dash-bootstrap-components pandas plotly\n",
    "\n",
    "import dash\n",
    "import dash_core_components as dcc\n",
    "import dash_html_components as html\n",
    "from dash.dependencies import Input, Output\n",
    "import pandas as pd\n",
    "import plotly.express as px\n",
    "\n",
    "# Sample data\n",
    "df = pd.DataFrame({\n",
    "    'Date': pd.date_range(start='2022-01-01', periods=10, freq='D'),\n",
    "    'Value': [10, 15, 20, 25, 30, 35, 40, 45, 50, 55]\n",
    "})\n",
    "\n",
    "# Initialize the Dash app\n",
    "app = dash.Dash(__name__)\n",
    "\n",
    "# Define the layout of the app with multiple sheets\n",
    "app.layout = html.Div([\n",
    "    html.H1(\"Interactive Dashboard\"),\n",
    "    \n",
    "    dcc.Tabs([\n",
    "        dcc.Tab(label='Line Plot', children=[\n",
    "            dcc.Graph(id='line-plot'),\n",
    "            dcc.RangeSlider(\n",
    "                id='date-range-slider',\n",
    "                marks={i: date.strftime('%Y-%m-%d') for i, date in enumerate(df['Date'])},\n",
    "                min=0,\n",
    "                max=len(df['Date']) - 1,\n",
    "                value=[0, len(df['Date']) - 1],\n",
    "                step=1\n",
    "            )\n",
    "        ]),\n",
    "        \n",
    "        dcc.Tab(label='Bar Chart', children=[\n",
    "            dcc.Graph(id='bar-chart'),\n",
    "            # Add components specific to the second sheet\n",
    "        ]),\n",
    "        \n",
    "        # Add more dcc.Tab components for additional sheets\n",
    "        \n",
    "    ])\n",
    "])\n",
    "\n",
    "# Define callbacks to update plots based on user interactions\n",
    "@app.callback(\n",
    "    Output('line-plot', 'figure'),\n",
    "    [Input('date-range-slider', 'value')]\n",
    ")\n",
    "def update_line_plot(selected_date_range):\n",
    "    start_idx, end_idx = selected_date_range\n",
    "    filtered_df = df.iloc[start_idx:end_idx + 1]\n",
    "    \n",
    "    fig = px.line(filtered_df, x='Date', y='Value', title='Filtered Line Plot')\n",
    "    \n",
    "    return fig\n",
    "\n",
    "# Add similar callbacks for other sheets\n",
    "\n",
    "# Run the app\n",
    "if __name__ == '__main__':\n",
    "    app.run_server(debug=True)\n"
   ]
  },
  {
   "cell_type": "code",
   "execution_count": 15,
   "metadata": {},
   "outputs": [
    {
     "data": {
      "text/html": [
       "\n",
       "        <iframe\n",
       "            width=\"100%\"\n",
       "            height=\"650\"\n",
       "            src=\"http://127.0.0.1:8050/\"\n",
       "            frameborder=\"0\"\n",
       "            allowfullscreen\n",
       "            \n",
       "        ></iframe>\n",
       "        "
      ],
      "text/plain": [
       "<IPython.lib.display.IFrame at 0x2119efe1110>"
      ]
     },
     "metadata": {},
     "output_type": "display_data"
    }
   ],
   "source": [
    "# Install the required libraries if you haven't already\n",
    "# pip install dash dash-bootstrap-components pandas plotly\n",
    "\n",
    "import dash\n",
    "import dash_core_components as dcc\n",
    "import dash_html_components as html\n",
    "from dash.dependencies import Input, Output\n",
    "import pandas as pd\n",
    "import plotly.express as px\n",
    "\n",
    "# Sample data\n",
    "df = pd.DataFrame({\n",
    "    'Date': pd.date_range(start='2022-01-01', periods=10, freq='D'),\n",
    "    'Value': [10, 15, 20, 25, 30, 35, 40, 45, 50, 55]\n",
    "})\n",
    "\n",
    "# Initialize the Dash app\n",
    "app = dash.Dash(__name__)\n",
    "\n",
    "# Define the layout of the app with multiple nested tabs\n",
    "app.layout = html.Div([\n",
    "    html.H1(\"Interactive Dashboard\"),\n",
    "    \n",
    "    dcc.Tabs([\n",
    "        dcc.Tab(label='Sheet 1', children=[\n",
    "            dcc.Tabs([\n",
    "                dcc.Tab(label='Line Plot', children=[\n",
    "                    dcc.Graph(id='line-plot'),\n",
    "                    dcc.RangeSlider(\n",
    "                        id='date-range-slider',\n",
    "                        marks={i: date.strftime('%Y-%m-%d') for i, date in enumerate(df['Date'])},\n",
    "                        min=0,\n",
    "                        max=len(df['Date']) - 1,\n",
    "                        value=[0, len(df['Date']) - 1],\n",
    "                        step=1\n",
    "                    )\n",
    "                ]),\n",
    "                \n",
    "                dcc.Tab(label='Bar Chart', children=[\n",
    "                    dcc.Graph(id='bar-chart'),\n",
    "                    # Add components specific to the second level of tabs\n",
    "                ]),\n",
    "                \n",
    "                # Add more dcc.Tab components for additional sheets within the first level of tabs\n",
    "                \n",
    "            ])\n",
    "        ]),\n",
    "        \n",
    "        dcc.Tab(label='Sheet 2', children=[\n",
    "            dcc.Tabs([\n",
    "                dcc.Tab(label='Scatter Plot', children=[\n",
    "                    dcc.Graph(id='scatter-plot'),\n",
    "                    # Add components specific to the second level of tabs for Sheet 2\n",
    "                ]),\n",
    "                \n",
    "                # Add more dcc.Tab components for additional sheets within the second level of tabs\n",
    "                \n",
    "            ])\n",
    "        ]),\n",
    "        \n",
    "        # Add more dcc.Tab components for additional top-level sheets\n",
    "        \n",
    "    ])\n",
    "])\n",
    "\n",
    "# Define callbacks to update plots based on user interactions\n",
    "@app.callback(\n",
    "    Output('line-plot', 'figure'),\n",
    "    [Input('date-range-slider', 'value')]\n",
    ")\n",
    "def update_line_plot(selected_date_range):\n",
    "    start_idx, end_idx = selected_date_range\n",
    "    filtered_df = df.iloc[start_idx:end_idx + 1]\n",
    "    \n",
    "    fig = px.line(filtered_df, x='Date', y='Value', title='Filtered Line Plot')\n",
    "    \n",
    "    return fig\n",
    "\n",
    "# Add similar callbacks for other plots within the nested tabs\n",
    "\n",
    "# Run the app\n",
    "if __name__ == '__main__':\n",
    "    app.run_server(debug=True)\n"
   ]
  },
  {
   "cell_type": "code",
   "execution_count": 16,
   "metadata": {},
   "outputs": [
    {
     "data": {
      "text/html": [
       "\n",
       "        <iframe\n",
       "            width=\"100%\"\n",
       "            height=\"650\"\n",
       "            src=\"http://127.0.0.1:8050/\"\n",
       "            frameborder=\"0\"\n",
       "            allowfullscreen\n",
       "            \n",
       "        ></iframe>\n",
       "        "
      ],
      "text/plain": [
       "<IPython.lib.display.IFrame at 0x211a066ef50>"
      ]
     },
     "metadata": {},
     "output_type": "display_data"
    }
   ],
   "source": []
  },
  {
   "cell_type": "code",
   "execution_count": null,
   "metadata": {},
   "outputs": [],
   "source": [
    "import plotly.express as px\n",
    "\n",
    "from aggregate_bank_statistics.aggregate_bank_stats import aggregate_bank_stats_fn\n",
    "\n",
    "from utils_dataframe_calcs import filter_dataframe_by_values\n",
    "from utils_dataframe_calcs import df_column_movements, df_column_movements_multiple\n",
    "\n",
    "from utils_visualise_data import plot_column_graph_plotly"
   ]
  },
  {
   "cell_type": "code",
   "execution_count": 17,
   "metadata": {},
   "outputs": [
    {
     "data": {
      "text/html": [
       "\n",
       "        <iframe\n",
       "            width=\"100%\"\n",
       "            height=\"650\"\n",
       "            src=\"http://127.0.0.1:8050/\"\n",
       "            frameborder=\"0\"\n",
       "            allowfullscreen\n",
       "            \n",
       "        ></iframe>\n",
       "        "
      ],
      "text/plain": [
       "<IPython.lib.display.IFrame at 0x211a3aa3b10>"
      ]
     },
     "metadata": {},
     "output_type": "display_data"
    }
   ],
   "source": [
    "# Install the required libraries if you haven't already\n",
    "# pip install dash dash-bootstrap-components pandas plotly\n",
    "\n",
    "import dash\n",
    "import dash_core_components as dcc\n",
    "import dash_html_components as html\n",
    "from dash.dependencies import Input, Output\n",
    "import pandas as pd\n",
    "import plotly.express as px\n",
    "\n",
    "# Sample data\n",
    "df = pd.DataFrame({\n",
    "    'Date': pd.date_range(start='2022-01-01', periods=10, freq='D'),\n",
    "    'Value': [10, 15, 20, 25, 30, 35, 40, 45, 50, 55]\n",
    "})\n",
    "\n",
    "# Initialize the Dash app\n",
    "app = dash.Dash(__name__)\n",
    "\n",
    "# Define the layout of the app with a dropdown menu\n",
    "app.layout = html.Div([\n",
    "    html.H1(\"Interactive Dashboard\"),\n",
    "\n",
    "    # Dropdown menu for selecting the sheet\n",
    "    dcc.Dropdown(\n",
    "        id='sheet-dropdown',\n",
    "        options=[\n",
    "            {'label': 'Sheet 1', 'value': 'sheet1'},\n",
    "            {'label': 'Sheet 2', 'value': 'sheet2'},\n",
    "            # Add more options for additional sheets\n",
    "        ],\n",
    "        value='sheet1',  # Default value\n",
    "    ),\n",
    "\n",
    "    # Output container for displaying the selected sheet content\n",
    "    html.Div(id='sheet-content')\n",
    "])\n",
    "\n",
    "# Define callbacks to update the sheet content based on the selected dropdown value\n",
    "@app.callback(\n",
    "    Output('sheet-content', 'children'),\n",
    "    [Input('sheet-dropdown', 'value')]\n",
    ")\n",
    "def update_sheet_content(selected_sheet):\n",
    "    if selected_sheet == 'sheet1':\n",
    "        # Content for Sheet 1\n",
    "        return [\n",
    "            dcc.Graph(id='line-plot'),\n",
    "            dcc.RangeSlider(\n",
    "                id='date-range-slider',\n",
    "                marks={i: date.strftime('%Y-%m-%d') for i, date in enumerate(df['Date'])},\n",
    "                min=0,\n",
    "                max=len(df['Date']) - 1,\n",
    "                value=[0, len(df['Date']) - 1],\n",
    "                step=1\n",
    "            )\n",
    "        ]\n",
    "    elif selected_sheet == 'sheet2':\n",
    "        # Content for Sheet 2\n",
    "        return [\n",
    "            dcc.Graph(id='bar-chart'),\n",
    "            # Add components specific to Sheet 2\n",
    "        ]\n",
    "    # Add more conditions for additional sheets\n",
    "\n",
    "# Define callbacks to update plots based on user interactions\n",
    "@app.callback(\n",
    "    Output('line-plot', 'figure'),\n",
    "    [Input('date-range-slider', 'value')]\n",
    ")\n",
    "def update_line_plot(selected_date_range):\n",
    "    start_idx, end_idx = selected_date_range\n",
    "    filtered_df = df.iloc[start_idx:end_idx + 1]\n",
    "    \n",
    "    fig = px.line(filtered_df, x='Date', y='Value', title='Filtered Line Plot')\n",
    "    \n",
    "    return fig\n",
    "\n",
    "# Add similar callbacks for other plots within the sheets\n",
    "\n",
    "# Run the app\n",
    "if __name__ == '__main__':\n",
    "    app.run_server(debug=True)\n"
   ]
  },
  {
   "cell_type": "code",
   "execution_count": 18,
   "metadata": {},
   "outputs": [
    {
     "data": {
      "text/html": [
       "\n",
       "        <iframe\n",
       "            width=\"100%\"\n",
       "            height=\"650\"\n",
       "            src=\"http://127.0.0.1:8050/\"\n",
       "            frameborder=\"0\"\n",
       "            allowfullscreen\n",
       "            \n",
       "        ></iframe>\n",
       "        "
      ],
      "text/plain": [
       "<IPython.lib.display.IFrame at 0x211a3aa2810>"
      ]
     },
     "metadata": {},
     "output_type": "display_data"
    }
   ],
   "source": [
    "# Install the required libraries if you haven't already\n",
    "# pip install dash dash-bootstrap-components pandas plotly\n",
    "\n",
    "import dash\n",
    "import dash_core_components as dcc\n",
    "import dash_html_components as html\n",
    "from dash.dependencies import Input, Output\n",
    "import pandas as pd\n",
    "import plotly.express as px\n",
    "\n",
    "# Sample data\n",
    "df = pd.DataFrame({\n",
    "    'Date': pd.date_range(start='2022-01-01', periods=10, freq='D'),\n",
    "    'Value': [10, 15, 20, 25, 30, 35, 40, 45, 50, 55]\n",
    "})\n",
    "\n",
    "# Initialize the Dash app\n",
    "app = dash.Dash(__name__)\n",
    "\n",
    "# Define the layout of the app with three levels of dropdowns\n",
    "app.layout = html.Div([\n",
    "    html.H1(\"Interactive Dashboard\"),\n",
    "\n",
    "    # First level dropdown for selecting the sheet\n",
    "    dcc.Dropdown(\n",
    "        id='sheet-dropdown',\n",
    "        options=[\n",
    "            {'label': 'Sheet 1', 'value': 'sheet1'},\n",
    "            {'label': 'Sheet 2', 'value': 'sheet2'},\n",
    "            # Add more options for additional sheets\n",
    "        ],\n",
    "        value='sheet1',  # Default value\n",
    "    ),\n",
    "\n",
    "    # Second level dropdown for selecting the category within the sheet\n",
    "    dcc.Dropdown(id='category-dropdown'),\n",
    "\n",
    "    # Output container for displaying the selected sheet content\n",
    "    html.Div(id='sheet-content')\n",
    "])\n",
    "\n",
    "# Define callback to populate the second level dropdown based on the selected sheet\n",
    "@app.callback(\n",
    "    Output('category-dropdown', 'options'),\n",
    "    [Input('sheet-dropdown', 'value')]\n",
    ")\n",
    "def update_category_dropdown(selected_sheet):\n",
    "    if selected_sheet == 'sheet1':\n",
    "        return [\n",
    "            {'label': 'Category A', 'value': 'categoryA'},\n",
    "            {'label': 'Category B', 'value': 'categoryB'},\n",
    "            # Add more options for additional categories in Sheet 1\n",
    "        ]\n",
    "    elif selected_sheet == 'sheet2':\n",
    "        return [\n",
    "            {'label': 'Category X', 'value': 'categoryX'},\n",
    "            {'label': 'Category Y', 'value': 'categoryY'},\n",
    "            # Add more options for additional categories in Sheet 2\n",
    "        ]\n",
    "    # Add more conditions for additional sheets\n",
    "\n",
    "# Define callback to update the sheet content based on the selected values\n",
    "@app.callback(\n",
    "    Output('sheet-content', 'children'),\n",
    "    [Input('sheet-dropdown', 'value'),\n",
    "     Input('category-dropdown', 'value')]\n",
    ")\n",
    "def update_sheet_content(selected_sheet, selected_category):\n",
    "    # Add conditions based on selected_sheet and selected_category to update the content\n",
    "    if selected_sheet == 'sheet1' and selected_category == 'categoryA':\n",
    "        # Content for Sheet 1, Category A\n",
    "        return [\n",
    "            dcc.Graph(id='line-plot'),\n",
    "            # Add more components specific to Sheet 1, Category A\n",
    "        ]\n",
    "    elif selected_sheet == 'sheet1' and selected_category == 'categoryB':\n",
    "        # Content for Sheet 1, Category B\n",
    "        return [\n",
    "            dcc.Graph(id='bar-chart'),\n",
    "            # Add more components specific to Sheet 1, Category B\n",
    "        ]\n",
    "    elif selected_sheet == 'sheet2' and selected_category == 'categoryX':\n",
    "        # Content for Sheet 2, Category X\n",
    "        return [\n",
    "            dcc.Graph(id='scatter-plot'),\n",
    "            # Add more components specific to Sheet 2, Category X\n",
    "        ]\n",
    "    # Add more conditions for additional sheets and categories\n",
    "\n",
    "# Run the app\n",
    "if __name__ == '__main__':\n",
    "    app.run_server(debug=True)\n"
   ]
  },
  {
   "cell_type": "code",
   "execution_count": 19,
   "metadata": {},
   "outputs": [
    {
     "data": {
      "text/html": [
       "\n",
       "        <iframe\n",
       "            width=\"100%\"\n",
       "            height=\"650\"\n",
       "            src=\"http://127.0.0.1:8050/\"\n",
       "            frameborder=\"0\"\n",
       "            allowfullscreen\n",
       "            \n",
       "        ></iframe>\n",
       "        "
      ],
      "text/plain": [
       "<IPython.lib.display.IFrame at 0x211a3c30b50>"
      ]
     },
     "metadata": {},
     "output_type": "display_data"
    },
    {
     "ename": "AttributeError",
     "evalue": "'Dash' object has no attribute 'to_html'",
     "output_type": "error",
     "traceback": [
      "\u001b[1;31m---------------------------------------------------------------------------\u001b[0m",
      "\u001b[1;31mAttributeError\u001b[0m                            Traceback (most recent call last)",
      "Cell \u001b[1;32mIn[19], line 50\u001b[0m\n\u001b[0;32m     48\u001b[0m \u001b[38;5;28;01mif\u001b[39;00m \u001b[38;5;18m__name__\u001b[39m \u001b[38;5;241m==\u001b[39m \u001b[38;5;124m'\u001b[39m\u001b[38;5;124m__main__\u001b[39m\u001b[38;5;124m'\u001b[39m:\n\u001b[0;32m     49\u001b[0m     app\u001b[38;5;241m.\u001b[39mrun_server(debug\u001b[38;5;241m=\u001b[39m\u001b[38;5;28;01mFalse\u001b[39;00m, dev_tools_ui\u001b[38;5;241m=\u001b[39m\u001b[38;5;28;01mFalse\u001b[39;00m, dev_tools_props_check\u001b[38;5;241m=\u001b[39m\u001b[38;5;28;01mFalse\u001b[39;00m)\n\u001b[1;32m---> 50\u001b[0m     \u001b[43mapp\u001b[49m\u001b[38;5;241;43m.\u001b[39;49m\u001b[43mto_html\u001b[49m(\u001b[38;5;124m\"\u001b[39m\u001b[38;5;124mdashboard.html\u001b[39m\u001b[38;5;124m\"\u001b[39m)\n",
      "\u001b[1;31mAttributeError\u001b[0m: 'Dash' object has no attribute 'to_html'"
     ]
    }
   ],
   "source": [
    "# Install the required libraries if you haven't already\n",
    "# pip install dash dash-html-components dash-core-components pandas plotly\n",
    "\n",
    "import dash\n",
    "import dash_core_components as dcc\n",
    "import dash_html_components as html\n",
    "from dash.dependencies import Input, Output\n",
    "import pandas as pd\n",
    "import plotly.express as px\n",
    "\n",
    "# Sample data\n",
    "df = pd.DataFrame({\n",
    "    'Date': pd.date_range(start='2022-01-01', periods=10, freq='D'),\n",
    "    'Value': [10, 15, 20, 25, 30, 35, 40, 45, 50, 55]\n",
    "})\n",
    "\n",
    "# Initialize the Dash app\n",
    "app = dash.Dash(__name__)\n",
    "\n",
    "# Define the layout of the app\n",
    "app.layout = html.Div([\n",
    "    html.H1(\"Interactive Dashboard\"),\n",
    "    dcc.Graph(id='line-plot'),\n",
    "    dcc.RangeSlider(\n",
    "        id='date-range-slider',\n",
    "        marks={i: date.strftime('%Y-%m-%d') for i, date in enumerate(df['Date'])},\n",
    "        min=0,\n",
    "        max=len(df['Date']) - 1,\n",
    "        value=[0, len(df['Date']) - 1],\n",
    "        step=1\n",
    "    )\n",
    "])\n",
    "\n",
    "# Define callback to update the plot based on the date range slider\n",
    "@app.callback(\n",
    "    Output('line-plot', 'figure'),\n",
    "    [Input('date-range-slider', 'value')]\n",
    ")\n",
    "def update_line_plot(selected_date_range):\n",
    "    start_idx, end_idx = selected_date_range\n",
    "    filtered_df = df.iloc[start_idx:end_idx + 1]\n",
    "\n",
    "    fig = px.line(filtered_df, x='Date', y='Value', title='Filtered Line Plot')\n",
    "\n",
    "    return fig\n",
    "\n",
    "# Save the app as a standalone HTML file\n",
    "if __name__ == '__main__':\n",
    "    app.run_server(debug=False, dev_tools_ui=False, dev_tools_props_check=False)\n",
    "    app.to_html(\"dashboard.html\")\n"
   ]
  },
  {
   "cell_type": "code",
   "execution_count": 20,
   "metadata": {},
   "outputs": [
    {
     "ename": "FileNotFoundError",
     "evalue": "[Errno 2] No such file or directory: 'your_excel_file.xlsx'",
     "output_type": "error",
     "traceback": [
      "\u001b[1;31m---------------------------------------------------------------------------\u001b[0m",
      "\u001b[1;31mFileNotFoundError\u001b[0m                         Traceback (most recent call last)",
      "Cell \u001b[1;32mIn[20], line 10\u001b[0m\n\u001b[0;32m      7\u001b[0m \u001b[38;5;28;01mimport\u001b[39;00m \u001b[38;5;21;01mpandas\u001b[39;00m \u001b[38;5;28;01mas\u001b[39;00m \u001b[38;5;21;01mpd\u001b[39;00m\n\u001b[0;32m      9\u001b[0m \u001b[38;5;66;03m# Load data from Excel file\u001b[39;00m\n\u001b[1;32m---> 10\u001b[0m df \u001b[38;5;241m=\u001b[39m \u001b[43mpd\u001b[49m\u001b[38;5;241;43m.\u001b[39;49m\u001b[43mread_excel\u001b[49m\u001b[43m(\u001b[49m\u001b[38;5;124;43m'\u001b[39;49m\u001b[38;5;124;43myour_excel_file.xlsx\u001b[39;49m\u001b[38;5;124;43m'\u001b[39;49m\u001b[43m)\u001b[49m\n\u001b[0;32m     12\u001b[0m \u001b[38;5;66;03m# Create Dash app\u001b[39;00m\n\u001b[0;32m     13\u001b[0m app \u001b[38;5;241m=\u001b[39m dash\u001b[38;5;241m.\u001b[39mDash(\u001b[38;5;18m__name__\u001b[39m)\n",
      "File \u001b[1;32m~\\AppData\\Local\\Packages\\PythonSoftwareFoundation.Python.3.11_qbz5n2kfra8p0\\LocalCache\\local-packages\\Python311\\site-packages\\pandas\\io\\excel\\_base.py:495\u001b[0m, in \u001b[0;36mread_excel\u001b[1;34m(io, sheet_name, header, names, index_col, usecols, dtype, engine, converters, true_values, false_values, skiprows, nrows, na_values, keep_default_na, na_filter, verbose, parse_dates, date_parser, date_format, thousands, decimal, comment, skipfooter, storage_options, dtype_backend, engine_kwargs)\u001b[0m\n\u001b[0;32m    493\u001b[0m \u001b[38;5;28;01mif\u001b[39;00m \u001b[38;5;129;01mnot\u001b[39;00m \u001b[38;5;28misinstance\u001b[39m(io, ExcelFile):\n\u001b[0;32m    494\u001b[0m     should_close \u001b[38;5;241m=\u001b[39m \u001b[38;5;28;01mTrue\u001b[39;00m\n\u001b[1;32m--> 495\u001b[0m     io \u001b[38;5;241m=\u001b[39m \u001b[43mExcelFile\u001b[49m\u001b[43m(\u001b[49m\n\u001b[0;32m    496\u001b[0m \u001b[43m        \u001b[49m\u001b[43mio\u001b[49m\u001b[43m,\u001b[49m\n\u001b[0;32m    497\u001b[0m \u001b[43m        \u001b[49m\u001b[43mstorage_options\u001b[49m\u001b[38;5;241;43m=\u001b[39;49m\u001b[43mstorage_options\u001b[49m\u001b[43m,\u001b[49m\n\u001b[0;32m    498\u001b[0m \u001b[43m        \u001b[49m\u001b[43mengine\u001b[49m\u001b[38;5;241;43m=\u001b[39;49m\u001b[43mengine\u001b[49m\u001b[43m,\u001b[49m\n\u001b[0;32m    499\u001b[0m \u001b[43m        \u001b[49m\u001b[43mengine_kwargs\u001b[49m\u001b[38;5;241;43m=\u001b[39;49m\u001b[43mengine_kwargs\u001b[49m\u001b[43m,\u001b[49m\n\u001b[0;32m    500\u001b[0m \u001b[43m    \u001b[49m\u001b[43m)\u001b[49m\n\u001b[0;32m    501\u001b[0m \u001b[38;5;28;01melif\u001b[39;00m engine \u001b[38;5;129;01mand\u001b[39;00m engine \u001b[38;5;241m!=\u001b[39m io\u001b[38;5;241m.\u001b[39mengine:\n\u001b[0;32m    502\u001b[0m     \u001b[38;5;28;01mraise\u001b[39;00m \u001b[38;5;167;01mValueError\u001b[39;00m(\n\u001b[0;32m    503\u001b[0m         \u001b[38;5;124m\"\u001b[39m\u001b[38;5;124mEngine should not be specified when passing \u001b[39m\u001b[38;5;124m\"\u001b[39m\n\u001b[0;32m    504\u001b[0m         \u001b[38;5;124m\"\u001b[39m\u001b[38;5;124man ExcelFile - ExcelFile already has the engine set\u001b[39m\u001b[38;5;124m\"\u001b[39m\n\u001b[0;32m    505\u001b[0m     )\n",
      "File \u001b[1;32m~\\AppData\\Local\\Packages\\PythonSoftwareFoundation.Python.3.11_qbz5n2kfra8p0\\LocalCache\\local-packages\\Python311\\site-packages\\pandas\\io\\excel\\_base.py:1550\u001b[0m, in \u001b[0;36mExcelFile.__init__\u001b[1;34m(self, path_or_buffer, engine, storage_options, engine_kwargs)\u001b[0m\n\u001b[0;32m   1548\u001b[0m     ext \u001b[38;5;241m=\u001b[39m \u001b[38;5;124m\"\u001b[39m\u001b[38;5;124mxls\u001b[39m\u001b[38;5;124m\"\u001b[39m\n\u001b[0;32m   1549\u001b[0m \u001b[38;5;28;01melse\u001b[39;00m:\n\u001b[1;32m-> 1550\u001b[0m     ext \u001b[38;5;241m=\u001b[39m \u001b[43minspect_excel_format\u001b[49m\u001b[43m(\u001b[49m\n\u001b[0;32m   1551\u001b[0m \u001b[43m        \u001b[49m\u001b[43mcontent_or_path\u001b[49m\u001b[38;5;241;43m=\u001b[39;49m\u001b[43mpath_or_buffer\u001b[49m\u001b[43m,\u001b[49m\u001b[43m \u001b[49m\u001b[43mstorage_options\u001b[49m\u001b[38;5;241;43m=\u001b[39;49m\u001b[43mstorage_options\u001b[49m\n\u001b[0;32m   1552\u001b[0m \u001b[43m    \u001b[49m\u001b[43m)\u001b[49m\n\u001b[0;32m   1553\u001b[0m     \u001b[38;5;28;01mif\u001b[39;00m ext \u001b[38;5;129;01mis\u001b[39;00m \u001b[38;5;28;01mNone\u001b[39;00m:\n\u001b[0;32m   1554\u001b[0m         \u001b[38;5;28;01mraise\u001b[39;00m \u001b[38;5;167;01mValueError\u001b[39;00m(\n\u001b[0;32m   1555\u001b[0m             \u001b[38;5;124m\"\u001b[39m\u001b[38;5;124mExcel file format cannot be determined, you must specify \u001b[39m\u001b[38;5;124m\"\u001b[39m\n\u001b[0;32m   1556\u001b[0m             \u001b[38;5;124m\"\u001b[39m\u001b[38;5;124man engine manually.\u001b[39m\u001b[38;5;124m\"\u001b[39m\n\u001b[0;32m   1557\u001b[0m         )\n",
      "File \u001b[1;32m~\\AppData\\Local\\Packages\\PythonSoftwareFoundation.Python.3.11_qbz5n2kfra8p0\\LocalCache\\local-packages\\Python311\\site-packages\\pandas\\io\\excel\\_base.py:1402\u001b[0m, in \u001b[0;36minspect_excel_format\u001b[1;34m(content_or_path, storage_options)\u001b[0m\n\u001b[0;32m   1399\u001b[0m \u001b[38;5;28;01mif\u001b[39;00m \u001b[38;5;28misinstance\u001b[39m(content_or_path, \u001b[38;5;28mbytes\u001b[39m):\n\u001b[0;32m   1400\u001b[0m     content_or_path \u001b[38;5;241m=\u001b[39m BytesIO(content_or_path)\n\u001b[1;32m-> 1402\u001b[0m \u001b[38;5;28;01mwith\u001b[39;00m \u001b[43mget_handle\u001b[49m\u001b[43m(\u001b[49m\n\u001b[0;32m   1403\u001b[0m \u001b[43m    \u001b[49m\u001b[43mcontent_or_path\u001b[49m\u001b[43m,\u001b[49m\u001b[43m \u001b[49m\u001b[38;5;124;43m\"\u001b[39;49m\u001b[38;5;124;43mrb\u001b[39;49m\u001b[38;5;124;43m\"\u001b[39;49m\u001b[43m,\u001b[49m\u001b[43m \u001b[49m\u001b[43mstorage_options\u001b[49m\u001b[38;5;241;43m=\u001b[39;49m\u001b[43mstorage_options\u001b[49m\u001b[43m,\u001b[49m\u001b[43m \u001b[49m\u001b[43mis_text\u001b[49m\u001b[38;5;241;43m=\u001b[39;49m\u001b[38;5;28;43;01mFalse\u001b[39;49;00m\n\u001b[0;32m   1404\u001b[0m \u001b[43m\u001b[49m\u001b[43m)\u001b[49m \u001b[38;5;28;01mas\u001b[39;00m handle:\n\u001b[0;32m   1405\u001b[0m     stream \u001b[38;5;241m=\u001b[39m handle\u001b[38;5;241m.\u001b[39mhandle\n\u001b[0;32m   1406\u001b[0m     stream\u001b[38;5;241m.\u001b[39mseek(\u001b[38;5;241m0\u001b[39m)\n",
      "File \u001b[1;32m~\\AppData\\Local\\Packages\\PythonSoftwareFoundation.Python.3.11_qbz5n2kfra8p0\\LocalCache\\local-packages\\Python311\\site-packages\\pandas\\io\\common.py:882\u001b[0m, in \u001b[0;36mget_handle\u001b[1;34m(path_or_buf, mode, encoding, compression, memory_map, is_text, errors, storage_options)\u001b[0m\n\u001b[0;32m    873\u001b[0m         handle \u001b[38;5;241m=\u001b[39m \u001b[38;5;28mopen\u001b[39m(\n\u001b[0;32m    874\u001b[0m             handle,\n\u001b[0;32m    875\u001b[0m             ioargs\u001b[38;5;241m.\u001b[39mmode,\n\u001b[1;32m   (...)\u001b[0m\n\u001b[0;32m    878\u001b[0m             newline\u001b[38;5;241m=\u001b[39m\u001b[38;5;124m\"\u001b[39m\u001b[38;5;124m\"\u001b[39m,\n\u001b[0;32m    879\u001b[0m         )\n\u001b[0;32m    880\u001b[0m     \u001b[38;5;28;01melse\u001b[39;00m:\n\u001b[0;32m    881\u001b[0m         \u001b[38;5;66;03m# Binary mode\u001b[39;00m\n\u001b[1;32m--> 882\u001b[0m         handle \u001b[38;5;241m=\u001b[39m \u001b[38;5;28;43mopen\u001b[39;49m\u001b[43m(\u001b[49m\u001b[43mhandle\u001b[49m\u001b[43m,\u001b[49m\u001b[43m \u001b[49m\u001b[43mioargs\u001b[49m\u001b[38;5;241;43m.\u001b[39;49m\u001b[43mmode\u001b[49m\u001b[43m)\u001b[49m\n\u001b[0;32m    883\u001b[0m     handles\u001b[38;5;241m.\u001b[39mappend(handle)\n\u001b[0;32m    885\u001b[0m \u001b[38;5;66;03m# Convert BytesIO or file objects passed with an encoding\u001b[39;00m\n",
      "\u001b[1;31mFileNotFoundError\u001b[0m: [Errno 2] No such file or directory: 'your_excel_file.xlsx'"
     ]
    }
   ],
   "source": [
    "# Install the required libraries if you haven't already\n",
    "# pip install dash dash-html-components dash-core-components pandas openpyxl\n",
    "\n",
    "import dash\n",
    "import dash_html_components as html\n",
    "import dash_core_components as dcc\n",
    "import pandas as pd\n",
    "\n",
    "# Load data from Excel file\n",
    "df = pd.read_excel('your_excel_file.xlsx')\n",
    "\n",
    "# Create Dash app\n",
    "app = dash.Dash(__name__)\n",
    "\n",
    "# Define layout\n",
    "app.layout = html.Div([\n",
    "    html.H1(\"Simple Dashboard\"),\n",
    "    \n",
    "    dcc.Graph(\n",
    "        id='scatter-plot',\n",
    "        figure={\n",
    "            'data': [\n",
    "                {'x': df['Column1'], 'y': df['Column2'], 'type': 'scatter', 'mode': 'markers', 'name': 'Scatter Plot'}\n",
    "            ],\n",
    "            'layout': {\n",
    "                'title': 'Scatter Plot'\n",
    "            }\n",
    "        }\n",
    "    )\n",
    "])\n",
    "\n",
    "# Save the app as a standalone HTML file\n",
    "with open('dashboard.html', 'w') as f:\n",
    "    f.write(app.to_html())\n",
    "\n",
    "print(\"Dashboard saved as 'dashboard.html'\")\n"
   ]
  },
  {
   "cell_type": "code",
   "execution_count": 24,
   "metadata": {},
   "outputs": [
    {
     "data": {
      "text/plain": [
       "0    2019-03-31\n",
       "1    2019-04-30\n",
       "2    2019-05-31\n",
       "3    2019-06-30\n",
       "4    2019-07-31\n",
       "5    2019-08-31\n",
       "6    2019-09-30\n",
       "7    2019-10-31\n",
       "8    2019-11-30\n",
       "9    2019-12-31\n",
       "10   2020-01-31\n",
       "11   2020-02-29\n",
       "12   2020-03-31\n",
       "13   2020-04-30\n",
       "14   2020-05-31\n",
       "15   2020-06-30\n",
       "16   2020-07-31\n",
       "17   2020-08-31\n",
       "18   2020-09-30\n",
       "19   2020-10-31\n",
       "20   2020-11-30\n",
       "21   2020-12-31\n",
       "22   2021-01-31\n",
       "23   2021-02-28\n",
       "24   2021-03-31\n",
       "25   2021-04-30\n",
       "26   2021-05-31\n",
       "27   2021-06-30\n",
       "28   2021-07-31\n",
       "29   2021-08-31\n",
       "30   2021-09-30\n",
       "31   2021-10-31\n",
       "32   2021-11-30\n",
       "33   2021-12-31\n",
       "34   2022-01-31\n",
       "35   2022-02-28\n",
       "36   2022-03-31\n",
       "37   2022-04-30\n",
       "38   2022-05-31\n",
       "39   2022-06-30\n",
       "40   2022-07-31\n",
       "41   2022-08-31\n",
       "42   2022-09-30\n",
       "43   2022-10-31\n",
       "44   2022-11-30\n",
       "45   2022-12-31\n",
       "46   2023-01-31\n",
       "47   2023-02-28\n",
       "48   2023-03-31\n",
       "49   2023-04-30\n",
       "50   2023-05-31\n",
       "51   2023-06-30\n",
       "52   2023-07-31\n",
       "53   2023-08-31\n",
       "54   2023-09-30\n",
       "55   2023-10-31\n",
       "56   2023-11-30\n",
       "57   2023-12-31\n",
       "Name: Period, dtype: datetime64[ns]"
      ]
     },
     "execution_count": 24,
     "metadata": {},
     "output_type": "execute_result"
    }
   ],
   "source": [
    "narrow_rba_monthly_stats_df\n",
    "aggregate_bank_stats_df['Period']\n",
    "aggregate_bank_stats_df['Cash - Monthly totals']\n",
    "aggregate_bank_stats_df['Deposits by community service organisations']\n",
    "aggregate_bank_stats_df['Deposits by financial institutions']\n",
    "aggregate_bank_stats_df['Cash - Monthly totals - MoM Movement ($)']\n",
    "aggregate_bank_stats_df['Deposits by financial institutions - MoM Movement ($)']"
   ]
  },
  {
   "cell_type": "code",
   "execution_count": 25,
   "metadata": {},
   "outputs": [
    {
     "data": {
      "text/html": [
       "\n",
       "        <iframe\n",
       "            width=\"100%\"\n",
       "            height=\"650\"\n",
       "            src=\"http://127.0.0.1:8050/\"\n",
       "            frameborder=\"0\"\n",
       "            allowfullscreen\n",
       "            \n",
       "        ></iframe>\n",
       "        "
      ],
      "text/plain": [
       "<IPython.lib.display.IFrame at 0x211a3a12910>"
      ]
     },
     "metadata": {},
     "output_type": "display_data"
    }
   ],
   "source": [
    "# Install the required libraries if you haven't already\n",
    "# pip install dash dash-html-components dash-core-components pandas openpyxl\n",
    "\n",
    "import dash\n",
    "import dash_html_components as html\n",
    "import dash_core_components as dcc\n",
    "from dash.dependencies import Input, Output\n",
    "import pandas as pd\n",
    "import plotly.express as px\n",
    "\n",
    "# Load data from Excel file\n",
    "aggregate_bank_stats_df['Period']\n",
    "aggregate_bank_stats_df['Cash - Monthly totals']\n",
    "aggregate_bank_stats_df['Deposits by community service organisations']\n",
    "aggregate_bank_stats_df['Deposits by financial institutions']\n",
    "aggregate_bank_stats_df['Cash - Monthly totals - MoM Movement ($)']\n",
    "aggregate_bank_stats_df['Deposits by financial institutions - MoM Movement ($)']\n",
    "\n",
    "# Initialize the Dash app\n",
    "app = dash.Dash(__name__)\n",
    "\n",
    "# Create dictionaries for each tab\n",
    "tab1_layout = dcc.Graph(\n",
    "    id='scatter-plot',\n",
    "    figure={\n",
    "        'data': [\n",
    "            {'x': aggregate_bank_stats_df['Period'], 'y': aggregate_bank_stats_df['Cash - Monthly totals'], 'type': 'scatter', 'mode': 'markers', 'name': 'Scatter Plot'}\n",
    "        ],\n",
    "        'layout': {\n",
    "            'title': 'Scatter Plot - Tab 1'\n",
    "        }\n",
    "    }\n",
    ")\n",
    "\n",
    "tab2_layout = dcc.Graph(\n",
    "    id='bar-chart',\n",
    "    figure={\n",
    "        'data': [\n",
    "            {'x': aggregate_bank_stats_df['Period'], 'y': aggregate_bank_stats_df['Cash - Monthly totals'], 'type': 'bar', 'name': 'Bar Chart'}\n",
    "        ],\n",
    "        'layout': {\n",
    "            'title': 'Bar Chart - Tab 2'\n",
    "        }\n",
    "    }\n",
    ")\n",
    "\n",
    "# Create a dictionary to store each tab layout\n",
    "tabs_layout = {\n",
    "    'Tab 1': tab1_layout,\n",
    "    'Tab 2': tab2_layout,\n",
    "    # Add more tabs as needed\n",
    "}\n",
    "\n",
    "# Define the layout of the app with a dropdown to select tabs\n",
    "app.layout = html.Div([\n",
    "    html.H1(\"Dynamic Multi-Tab Dashboard\"),\n",
    "\n",
    "    dcc.Dropdown(\n",
    "        id='tab-dropdown',\n",
    "        options=[\n",
    "            {'label': tab_name, 'value': tab_name} for tab_name in tabs_layout.keys()\n",
    "        ],\n",
    "        value='Tab 1',  # Default tab\n",
    "    ),\n",
    "\n",
    "    # Output container for displaying the selected tab content\n",
    "    html.Div(id='tab-content')\n",
    "])\n",
    "\n",
    "# Define callback to update the tab content based on the selected dropdown value\n",
    "@app.callback(\n",
    "    Output('tab-content', 'children'),\n",
    "    [Input('tab-dropdown', 'value')]\n",
    ")\n",
    "def update_tab_content(selected_tab):\n",
    "    return tabs_layout[selected_tab]\n",
    "\n",
    "# Run the app\n",
    "if __name__ == '__main__':\n",
    "    app.run_server(debug=True)\n"
   ]
  },
  {
   "cell_type": "code",
   "execution_count": 26,
   "metadata": {},
   "outputs": [
    {
     "data": {
      "text/html": [
       "\n",
       "        <iframe\n",
       "            width=\"100%\"\n",
       "            height=\"650\"\n",
       "            src=\"http://127.0.0.1:8050/\"\n",
       "            frameborder=\"0\"\n",
       "            allowfullscreen\n",
       "            \n",
       "        ></iframe>\n",
       "        "
      ],
      "text/plain": [
       "<IPython.lib.display.IFrame at 0x211a078f390>"
      ]
     },
     "metadata": {},
     "output_type": "display_data"
    }
   ],
   "source": [
    "# Importing the required libraries\n",
    "import dash\n",
    "import dash_html_components as html\n",
    "import dash_core_components as dcc\n",
    "from dash.dependencies import Input, Output\n",
    "import pandas as pd\n",
    "import plotly.express as px\n",
    "\n",
    "# Load data from Excel file\n",
    "# Assuming you have already loaded your data into aggregate_bank_stats_df\n",
    "\n",
    "# Initialize the Dash app\n",
    "app = dash.Dash(__name__)\n",
    "\n",
    "# Create a dictionary for the tab layout\n",
    "tab1_layout = html.Div([\n",
    "    html.H2(\"Tab 1 - Scatter Plot with Additional Information\"),\n",
    "    \n",
    "    html.P(\"This is some additional information or context you want to provide above the graph.\"),\n",
    "    \n",
    "    html.Ul([\n",
    "        html.Li(\"Bullet point 1\"),\n",
    "        html.Li(\"Bullet point 2\"),\n",
    "        html.Li(\"Bullet point 3\"),\n",
    "    ]),\n",
    "    \n",
    "    dcc.Graph(\n",
    "        id='scatter-plot',\n",
    "        figure={\n",
    "            'data': [\n",
    "                {'x': aggregate_bank_stats_df['Period'], 'y': aggregate_bank_stats_df['Cash - Monthly totals'], 'type': 'scatter', 'mode': 'markers', 'name': 'Cash - Monthly totals'},\n",
    "                {'x': aggregate_bank_stats_df['Period'], 'y': aggregate_bank_stats_df['Deposits by financial institutions'], 'type': 'scatter', 'mode': 'lines', 'name': 'Deposits by financial institutions', 'yaxis': 'y2'},\n",
    "            ],\n",
    "            'layout': {\n",
    "                'title': 'Scatter Plot with Multiple Series',\n",
    "                'yaxis': {'title': 'Cash - Monthly totals'},\n",
    "                'yaxis2': {'title': 'Deposits by financial institutions', 'overlaying': 'y', 'side': 'right'},\n",
    "            }\n",
    "        }\n",
    "    )\n",
    "])\n",
    "\n",
    "# Define the layout of the app with a dropdown to select tabs\n",
    "app.layout = html.Div([\n",
    "    html.H1(\"Dynamic Multi-Tab Dashboard\"),\n",
    "\n",
    "    dcc.Dropdown(\n",
    "        id='tab-dropdown',\n",
    "        options=[\n",
    "            {'label': 'Tab 1', 'value': 'Tab 1'},\n",
    "            # Add more tab options as needed\n",
    "        ],\n",
    "        value='Tab 1',  # Default tab\n",
    "    ),\n",
    "\n",
    "    # Output container for displaying the selected tab content\n",
    "    html.Div(id='tab-content')\n",
    "])\n",
    "\n",
    "# Define callback to update the tab content based on the selected dropdown value\n",
    "@app.callback(\n",
    "    Output('tab-content', 'children'),\n",
    "    [Input('tab-dropdown', 'value')]\n",
    ")\n",
    "def update_tab_content(selected_tab):\n",
    "    if selected_tab == 'Tab 1':\n",
    "        return tab1_layout\n",
    "    # Add more conditions for additional tabs\n",
    "\n",
    "# Run the app\n",
    "if __name__ == '__main__':\n",
    "    app.run_server(debug=True)\n"
   ]
  },
  {
   "cell_type": "code",
   "execution_count": null,
   "metadata": {},
   "outputs": [],
   "source": []
  },
  {
   "cell_type": "markdown",
   "metadata": {},
   "source": [
    "# Process Specific Banks"
   ]
  },
  {
   "cell_type": "code",
   "execution_count": 180,
   "metadata": {},
   "outputs": [],
   "source": [
    "# result\n",
    "#specific_bank_df=result\n",
    "#specific_bank_df.columns\n",
    "# single_bank_config = result\n",
    "#specific_bank_df"
   ]
  },
  {
   "cell_type": "code",
   "execution_count": 188,
   "metadata": {},
   "outputs": [
    {
     "data": {
      "text/plain": [
       "{'dollars_conversion': {'col_list_type': 'all_but',\n",
       "  'col_list': ['Period', 'ABN', 'Institution Name'],\n",
       "  'ordered_adjustments': {'multiply': 1000}}}"
      ]
     },
     "execution_count": 188,
     "metadata": {},
     "output_type": "execute_result"
    }
   ],
   "source": [
    "column_adjustments_dict=config_dict = read_yaml(file_path = 'config.yaml')['column_adjustments_dict']\n",
    "column_adjustments_dict"
   ]
  },
  {
   "cell_type": "code",
   "execution_count": 192,
   "metadata": {},
   "outputs": [
    {
     "name": "stdout",
     "output_type": "stream",
     "text": [
      "{'col_list_type': 'all_but', 'col_list': ['Period', 'ABN', 'Institution Name'], 'ordered_adjustments': {'multiply': 1000}}\n",
      "all_but\n"
     ]
    }
   ],
   "source": [
    "for adjustment in column_adjustments_dict.keys():\n",
    "    column_adjustment_dict=column_adjustments_dict[adjustment]\n",
    "    print(column_adjustment_dict)\n",
    "\n",
    "    if column_adjustment_dict['col_list_type'] == 'all_but':\n",
    "        print(column_adjustment_dict['col_list_type'])\n",
    "        not_else_cols_list = []\n",
    "        for key in col_types_dict.keys():\n",
    "            if key not in ['skip_cols', 'else_cols_as_type']:\n",
    "                not_else_cols_list = not_else_cols_list + col_types_dict[key]\n",
    "        else_cols_list = [col for col in df.columns if col not in not_else_cols_list]\n",
    "\n",
    "\n",
    "\n",
    "    # # Generate else columns list\n",
    "    # not_else_cols_list = []\n",
    "    # for key in col_types_dict.keys():\n",
    "    #     if key not in ['skip_cols', 'else_cols_as_type']:\n",
    "    #         not_else_cols_list = not_else_cols_list + col_types_dict[key]\n",
    "    # else_cols_list = [col for col in df.columns if col not in not_else_cols_list]\n",
    "    # \n",
    "    # # Convert columns to correct types\n",
    "    # for key, cols in col_types_dict.items():\n",
    "    #     # Skipped Columns\n",
    "    #     if key == 'skip_cols':\n",
    "    #         continue\n",
    "    #     # Columns to be converted with a common type\n",
    "    #     elif key == 'else_cols_as_type':\n",
    "    #         convert_columns_by_type(\n",
    "    #             df=df,\n",
    "    #             cols_list=else_cols_list,\n",
    "    #             cols_type=cols  # assuming else_cols_as_type contains only one data type\n",
    "    #         )\n",
    "    #     else:\n",
    "    #         convert_columns_by_type(\n",
    "    #             df=df,\n",
    "    #             cols_list=cols,\n",
    "    #             cols_type=key\n",
    "    #         )\n"
   ]
  },
  {
   "cell_type": "code",
   "execution_count": null,
   "metadata": {},
   "outputs": [],
   "source": [
    "def columns_adjustments(df, col_types_dict):\n",
    "    \"\"\"\n",
    "    Convert specified columns in a DataFrame to their respective data types based on a dictionary.\n",
    "\n",
    "    Parameters:\n",
    "        df (pd.DataFrame): The DataFrame to perform column conversions on.\n",
    "        col_types_dict (dict): Dictionary associating data types with lists of column names.\n",
    "\n",
    "    Returns:\n",
    "        pd.DataFrame: The modified DataFrame with converted columns.\n",
    "    \"\"\"\n",
    "\n",
    "    "
   ]
  },
  {
   "cell_type": "code",
   "execution_count": 175,
   "metadata": {},
   "outputs": [
    {
     "name": "stdout",
     "output_type": "stream",
     "text": [
      "       Period  Loans to non-financial businesses  \\\n",
      "0  2019-03-31                             8763.7   \n",
      "1  2019-04-30                             8670.6   \n",
      "2  2019-05-31                             8241.6   \n",
      "3  2019-06-30                             8262.2   \n",
      "4  2019-07-31                             8169.8   \n",
      "5  2019-08-31                             8260.8   \n",
      "6  2019-09-30                             7479.1   \n",
      "7  2019-10-31                             7591.2   \n",
      "8  2019-11-30                             7636.7   \n",
      "9  2019-12-31                             7696.4   \n",
      "10 2020-01-31                             7623.4   \n",
      "11 2020-02-29                             7718.8   \n",
      "12 2020-03-31                             7875.5   \n",
      "13 2020-04-30                             7944.9   \n",
      "14 2020-05-31                             7874.4   \n",
      "15 2020-06-30                             7807.6   \n",
      "16 2020-07-31                             7827.5   \n",
      "17 2020-08-31                             7795.1   \n",
      "18 2020-09-30                             9027.6   \n",
      "19 2020-10-31                             9265.1   \n",
      "20 2020-11-30                             9971.7   \n",
      "21 2020-12-31                            10356.8   \n",
      "22 2021-01-31                            10549.7   \n",
      "23 2021-02-28                            11073.3   \n",
      "24 2021-03-31                            11668.6   \n",
      "25 2021-04-30                            12134.5   \n",
      "26 2021-05-31                            12269.4   \n",
      "27 2021-06-30                            12872.9   \n",
      "28 2021-07-31                            13002.6   \n",
      "29 2021-08-31                            13286.5   \n",
      "30 2021-09-30                            13091.6   \n",
      "31 2021-10-31                            13244.5   \n",
      "32 2021-11-30                            14696.2   \n",
      "33 2021-12-31                            14787.2   \n",
      "34 2022-01-31                            14753.7   \n",
      "35 2022-02-28                            14853.3   \n",
      "36 2022-03-31                            15025.6   \n",
      "37 2022-04-30                            15070.5   \n",
      "38 2022-05-31                            15218.5   \n",
      "39 2022-06-30                            15324.7   \n",
      "40 2022-07-31                            15435.1   \n",
      "41 2022-08-31                            15661.4   \n",
      "42 2022-09-30                            15696.0   \n",
      "43 2022-10-31                            15739.3   \n",
      "44 2022-11-30                            15730.9   \n",
      "45 2022-12-31                            15790.2   \n",
      "46 2023-01-31                            15738.4   \n",
      "47 2023-02-28                            16006.2   \n",
      "48 2023-03-31                            16050.7   \n",
      "49 2023-04-30                            16302.6   \n",
      "50 2023-05-31                            16620.3   \n",
      "51 2023-06-30                            16922.5   \n",
      "52 2023-07-31                            16940.7   \n",
      "53 2023-08-31                            16988.4   \n",
      "54 2023-09-30                            17309.1   \n",
      "55 2023-10-31                            17653.5   \n",
      "56 2023-11-30                            17554.6   \n",
      "57 2023-12-31                            18192.1   \n",
      "\n",
      "    Loans to financial institutions  Business Loans  MoM Movement $  \\\n",
      "0                            2478.5         11242.2             NaN   \n",
      "1                            2570.7         11241.3            -0.9   \n",
      "2                            2518.9         10760.5          -480.8   \n",
      "3                            2617.6         10879.8           119.3   \n",
      "4                            2529.1         10698.9          -180.9   \n",
      "5                            2695.0         10955.8           256.9   \n",
      "6                            2610.3         10089.4          -866.4   \n",
      "7                            2597.6         10188.8            99.4   \n",
      "8                            2747.5         10384.2           195.4   \n",
      "9                            2821.7         10518.1           133.9   \n",
      "10                           2852.1         10475.5           -42.6   \n",
      "11                           2731.8         10450.6           -24.9   \n",
      "12                           2724.5         10600.0           149.4   \n",
      "13                           2574.7         10519.6           -80.4   \n",
      "14                           2992.0         10866.4           346.8   \n",
      "15                           2764.7         10572.3          -294.1   \n",
      "16                           2333.0         10160.5          -411.8   \n",
      "17                           2269.8         10064.9           -95.6   \n",
      "18                           2200.4         11228.0          1163.1   \n",
      "19                           2394.5         11659.6           431.6   \n",
      "20                           2096.5         12068.2           408.6   \n",
      "21                           2371.1         12727.9           659.7   \n",
      "22                           2250.6         12800.3            72.4   \n",
      "23                           2251.0         13324.3           524.0   \n",
      "24                           2227.8         13896.4           572.1   \n",
      "25                           2141.4         14275.9           379.5   \n",
      "26                           2124.3         14393.7           117.8   \n",
      "27                           2079.5         14952.4           558.7   \n",
      "28                           2096.2         15098.8           146.4   \n",
      "29                           2008.4         15294.9           196.1   \n",
      "30                           2011.3         15102.9          -192.0   \n",
      "31                           1998.4         15242.9           140.0   \n",
      "32                           1915.3         16611.5          1368.6   \n",
      "33                           1960.3         16747.5           136.0   \n",
      "34                           1980.9         16734.6           -12.9   \n",
      "35                           1913.2         16766.5            31.9   \n",
      "36                           1914.8         16940.4           173.9   \n",
      "37                           1931.7         17002.2            61.8   \n",
      "38                           1838.1         17056.6            54.4   \n",
      "39                           2880.8         18205.5          1148.9   \n",
      "40                           2286.1         17721.2          -484.3   \n",
      "41                           1698.2         17359.6          -361.6   \n",
      "42                           2942.7         18638.7          1279.1   \n",
      "43                           1821.9         17561.2         -1077.5   \n",
      "44                           1817.0         17547.9           -13.3   \n",
      "45                           1737.8         17528.0           -19.9   \n",
      "46                           1736.3         17474.7           -53.3   \n",
      "47                           1702.1         17708.3           233.6   \n",
      "48                           1686.4         17737.1            28.8   \n",
      "49                           1721.3         18023.9           286.8   \n",
      "50                           1661.1         18281.4           257.5   \n",
      "51                           1651.2         18573.7           292.3   \n",
      "52                           1650.4         18591.1            17.4   \n",
      "53                           1622.4         18610.8            19.7   \n",
      "54                           1657.5         18966.6           355.8   \n",
      "55                           1659.6         19313.1           346.5   \n",
      "56                           1539.2         19093.8          -219.3   \n",
      "57                           1615.9         19808.0           714.2   \n",
      "\n",
      "    MoM Movement %  \n",
      "0              NaN  \n",
      "1        -0.008006  \n",
      "2        -4.277085  \n",
      "3         1.108685  \n",
      "4        -1.662714  \n",
      "5         2.401181  \n",
      "6        -7.908140  \n",
      "7         0.985192  \n",
      "8         1.917792  \n",
      "9         1.289459  \n",
      "10       -0.405016  \n",
      "11       -0.237697  \n",
      "12        1.429583  \n",
      "13       -0.758491  \n",
      "14        3.296703  \n",
      "15       -2.706508  \n",
      "16       -3.895084  \n",
      "17       -0.940899  \n",
      "18       11.556002  \n",
      "19        3.843962  \n",
      "20        3.504408  \n",
      "21        5.466432  \n",
      "22        0.568829  \n",
      "23        4.093654  \n",
      "24        4.293659  \n",
      "25        2.730923  \n",
      "26        0.825167  \n",
      "27        3.881559  \n",
      "28        0.979107  \n",
      "29        1.298779  \n",
      "30       -1.255320  \n",
      "31        0.926974  \n",
      "32        8.978606  \n",
      "33        0.818710  \n",
      "34       -0.077026  \n",
      "35        0.190623  \n",
      "36        1.037187  \n",
      "37        0.364808  \n",
      "38        0.319959  \n",
      "39        6.735809  \n",
      "40       -2.660185  \n",
      "41       -2.040494  \n",
      "42        7.368257  \n",
      "43       -5.780983  \n",
      "44       -0.075735  \n",
      "45       -0.113404  \n",
      "46       -0.304085  \n",
      "47        1.336790  \n",
      "48        0.162636  \n",
      "49        1.616950  \n",
      "50        1.428659  \n",
      "51        1.598893  \n",
      "52        0.093681  \n",
      "53        0.105965  \n",
      "54        1.911793  \n",
      "55        1.826896  \n",
      "56       -1.135499  \n",
      "57        3.740481  \n"
     ]
    }
   ],
   "source": [
    "# APRA Monthly ADI Statistics - Specific Bank\n",
    "# Non-financial businesses + Financial Institutions\n",
    "\n",
    "single_bank_config=read_yaml(file_path = 'process_specific_bank/single_bank_analysis.yaml')\n",
    "alias = read_yaml(file_path = 'alias.yaml')\n",
    "\n",
    "# Arguments\n",
    "date_col = single_bank_config['date_col']\n",
    "for grouping in single_bank_config['single_bank_analysis']:\n",
    "    column_list = single_bank_config['single_bank_analysis'][grouping]\n",
    "\n",
    "    # Only maintain required columns\n",
    "    business_loans = specific_bank_df[[date_col] + column_list].copy()\n",
    "    business_loans[grouping] = business_loans[column_list].sum(axis=1)\n",
    "\n",
    "    # Convert the 'Period' column to datetime if it's not already\n",
    "    business_loans[date_col] = pd.to_datetime(business_loans[date_col])\n",
    "    \n",
    "    # Sort the DataFrame by 'Period' in descending order\n",
    "    business_loans = business_loans.sort_values(date_col, ascending=True)\n",
    "\n",
    "    # Reset the index to ensure proper ordering\n",
    "    business_loans.reset_index(drop=True, inplace=True)\n",
    "\n",
    "    # Calculate month-on-month movements\n",
    "    business_loans['MoM Movement $'] = business_loans[grouping].diff()\n",
    "\n",
    "    # Calculate the MoM percentage change\n",
    "    business_loans['MoM Movement %'] = (business_loans['MoM Movement $'] / business_loans[grouping].shift(1)) * 100\n",
    "\n",
    "\n",
    "    # Display the resulting DataFrame\n",
    "    print(business_loans)\n",
    "    business_loans\n"
   ]
  },
  {
   "cell_type": "code",
   "execution_count": 174,
   "metadata": {},
   "outputs": [
    {
     "data": {
      "text/plain": [
       "'test'"
      ]
     },
     "execution_count": 174,
     "metadata": {},
     "output_type": "execute_result"
    }
   ],
   "source": [
    "specific_bank_name = 'Macquarie Bank Limited'\n",
    "specific_bank_name = 'test'\n",
    "try:\n",
    "    alias=alias['alias'][specific_bank_name]\n",
    "except:\n",
    "    alias=specific_bank_name\n",
    "\n",
    "alias"
   ]
  },
  {
   "cell_type": "code",
   "execution_count": 164,
   "metadata": {},
   "outputs": [
    {
     "name": "stdout",
     "output_type": "stream",
     "text": [
      "19808.0\n"
     ]
    }
   ],
   "source": [
    "last_total = business_loans['Business Loans'].iloc[-1]\n",
    "print(last_total)\n"
   ]
  },
  {
   "cell_type": "code",
   "execution_count": 154,
   "metadata": {},
   "outputs": [
    {
     "data": {
      "text/plain": [
       "{'single_bank_analysis': {'date_col': 'Period',\n",
       "  'Business Loans': ['Loans to non-financial businesses',\n",
       "   'Loans to financial institutions']}}"
      ]
     },
     "execution_count": 154,
     "metadata": {},
     "output_type": "execute_result"
    }
   ],
   "source": [
    "single_bank_config"
   ]
  },
  {
   "cell_type": "code",
   "execution_count": 123,
   "metadata": {},
   "outputs": [
    {
     "name": "stdout",
     "output_type": "stream",
     "text": [
      "       Period  Loans to non-financial businesses  \\\n",
      "0  2023-12-31                            18192.1   \n",
      "1  2023-11-30                            17554.6   \n",
      "2  2023-10-31                            17653.5   \n",
      "3  2023-09-30                            17309.1   \n",
      "4  2023-08-31                            16988.4   \n",
      "5  2023-07-31                            16940.7   \n",
      "6  2023-06-30                            16922.5   \n",
      "7  2023-05-31                            16620.3   \n",
      "8  2023-04-30                            16302.6   \n",
      "9  2023-03-31                            16050.7   \n",
      "10 2023-02-28                            16006.2   \n",
      "11 2023-01-31                            15738.4   \n",
      "12 2022-12-31                            15790.2   \n",
      "13 2022-11-30                            15730.9   \n",
      "14 2022-10-31                            15739.3   \n",
      "15 2022-09-30                            15696.0   \n",
      "16 2022-08-31                            15661.4   \n",
      "17 2022-07-31                            15435.1   \n",
      "18 2022-06-30                            15324.7   \n",
      "19 2022-05-31                            15218.5   \n",
      "20 2022-04-30                            15070.5   \n",
      "21 2022-03-31                            15025.6   \n",
      "22 2022-02-28                            14853.3   \n",
      "23 2022-01-31                            14753.7   \n",
      "24 2021-12-31                            14787.2   \n",
      "25 2021-11-30                            14696.2   \n",
      "26 2021-10-31                            13244.5   \n",
      "27 2021-09-30                            13091.6   \n",
      "28 2021-08-31                            13286.5   \n",
      "29 2021-07-31                            13002.6   \n",
      "30 2021-06-30                            12872.9   \n",
      "31 2021-05-31                            12269.4   \n",
      "32 2021-04-30                            12134.5   \n",
      "33 2021-03-31                            11668.6   \n",
      "34 2021-02-28                            11073.3   \n",
      "35 2021-01-31                            10549.7   \n",
      "36 2020-12-31                            10356.8   \n",
      "37 2020-11-30                             9971.7   \n",
      "38 2020-10-31                             9265.1   \n",
      "39 2020-09-30                             9027.6   \n",
      "40 2020-08-31                             7795.1   \n",
      "41 2020-07-31                             7827.5   \n",
      "42 2020-06-30                             7807.6   \n",
      "43 2020-05-31                             7874.4   \n",
      "44 2020-04-30                             7944.9   \n",
      "45 2020-03-31                             7875.5   \n",
      "46 2020-02-29                             7718.8   \n",
      "47 2020-01-31                             7623.4   \n",
      "48 2019-12-31                             7696.4   \n",
      "49 2019-11-30                             7636.7   \n",
      "50 2019-10-31                             7591.2   \n",
      "51 2019-09-30                             7479.1   \n",
      "52 2019-08-31                             8260.8   \n",
      "53 2019-07-31                             8169.8   \n",
      "54 2019-06-30                             8262.2   \n",
      "55 2019-05-31                             8241.6   \n",
      "56 2019-04-30                             8670.6   \n",
      "57 2019-03-31                             8763.7   \n",
      "\n",
      "    Loans to financial institutions    total  MoM Movement  \n",
      "0                            1615.9  19808.0           NaN  \n",
      "1                            1539.2  19093.8        -714.2  \n",
      "2                            1659.6  19313.1         219.3  \n",
      "3                            1657.5  18966.6        -346.5  \n",
      "4                            1622.4  18610.8        -355.8  \n",
      "5                            1650.4  18591.1         -19.7  \n",
      "6                            1651.2  18573.7         -17.4  \n",
      "7                            1661.1  18281.4        -292.3  \n",
      "8                            1721.3  18023.9        -257.5  \n",
      "9                            1686.4  17737.1        -286.8  \n",
      "10                           1702.1  17708.3         -28.8  \n",
      "11                           1736.3  17474.7        -233.6  \n",
      "12                           1737.8  17528.0          53.3  \n",
      "13                           1817.0  17547.9          19.9  \n",
      "14                           1821.9  17561.2          13.3  \n",
      "15                           2942.7  18638.7        1077.5  \n",
      "16                           1698.2  17359.6       -1279.1  \n",
      "17                           2286.1  17721.2         361.6  \n",
      "18                           2880.8  18205.5         484.3  \n",
      "19                           1838.1  17056.6       -1148.9  \n",
      "20                           1931.7  17002.2         -54.4  \n",
      "21                           1914.8  16940.4         -61.8  \n",
      "22                           1913.2  16766.5        -173.9  \n",
      "23                           1980.9  16734.6         -31.9  \n",
      "24                           1960.3  16747.5          12.9  \n",
      "25                           1915.3  16611.5        -136.0  \n",
      "26                           1998.4  15242.9       -1368.6  \n",
      "27                           2011.3  15102.9        -140.0  \n",
      "28                           2008.4  15294.9         192.0  \n",
      "29                           2096.2  15098.8        -196.1  \n",
      "30                           2079.5  14952.4        -146.4  \n",
      "31                           2124.3  14393.7        -558.7  \n",
      "32                           2141.4  14275.9        -117.8  \n",
      "33                           2227.8  13896.4        -379.5  \n",
      "34                           2251.0  13324.3        -572.1  \n",
      "35                           2250.6  12800.3        -524.0  \n",
      "36                           2371.1  12727.9         -72.4  \n",
      "37                           2096.5  12068.2        -659.7  \n",
      "38                           2394.5  11659.6        -408.6  \n",
      "39                           2200.4  11228.0        -431.6  \n",
      "40                           2269.8  10064.9       -1163.1  \n",
      "41                           2333.0  10160.5          95.6  \n",
      "42                           2764.7  10572.3         411.8  \n",
      "43                           2992.0  10866.4         294.1  \n",
      "44                           2574.7  10519.6        -346.8  \n",
      "45                           2724.5  10600.0          80.4  \n",
      "46                           2731.8  10450.6        -149.4  \n",
      "47                           2852.1  10475.5          24.9  \n",
      "48                           2821.7  10518.1          42.6  \n",
      "49                           2747.5  10384.2        -133.9  \n",
      "50                           2597.6  10188.8        -195.4  \n",
      "51                           2610.3  10089.4         -99.4  \n",
      "52                           2695.0  10955.8         866.4  \n",
      "53                           2529.1  10698.9        -256.9  \n",
      "54                           2617.6  10879.8         180.9  \n",
      "55                           2518.9  10760.5        -119.3  \n",
      "56                           2570.7  11241.3         480.8  \n",
      "57                           2478.5  11242.2           0.9  \n"
     ]
    }
   ],
   "source": [
    "import pandas as pd\n",
    "\n",
    "# Assuming 'specific_bank_df' is your DataFrame\n",
    "\n",
    "# Arguments\n",
    "date_col = 'Period'\n",
    "columns = [\n",
    "    'Loans to non-financial businesses',\n",
    "    'Loans to financial institutions',\n",
    "]\n",
    "total_col = 'total'\n",
    "\n",
    "# Only maintain required columns\n",
    "business_loans = specific_bank_df[[date_col] + columns].copy()\n",
    "business_loans[total_col] = business_loans[columns].sum(axis=1)\n",
    "\n",
    "# Convert the 'Period' column to datetime if it's not already\n",
    "business_loans['Period'] = pd.to_datetime(business_loans['Period'])\n",
    "\n",
    "# Sort the DataFrame by 'Period' in descending order\n",
    "business_loans_sorted = business_loans.sort_values(by='Period', ascending=False)\n",
    "\n",
    "# Reset the index to ensure proper ordering\n",
    "business_loans_sorted.reset_index(drop=True, inplace=True)\n",
    "\n",
    "# Calculate month-on-month movements\n",
    "business_loans_sorted['MoM Movement'] = business_loans_sorted['total'].diff()\n",
    "\n",
    "# Display the resulting DataFrame\n",
    "print(business_loans_sorted)\n"
   ]
  },
  {
   "cell_type": "code",
   "execution_count": 52,
   "metadata": {},
   "outputs": [
    {
     "data": {
      "text/plain": [
       "{'col_types_dict': {'date': ['Period'],\n",
       "  'str': ['ABN', 'Institution Name'],\n",
       "  'skip_cols': None,\n",
       "  'else_cols_as_type': 'float'}}"
      ]
     },
     "execution_count": 52,
     "metadata": {},
     "output_type": "execute_result"
    }
   ],
   "source": [
    "config_dict = read_yaml(file_path = 'config.yaml')\n",
    "config_dict\n"
   ]
  },
  {
   "cell_type": "code",
   "execution_count": null,
   "metadata": {},
   "outputs": [],
   "source": [
    "two_most_recent_dates = df['Period'].nlargest(2)\n",
    "is_two_most_recent_dates = df['Period'].isin(two_most_recent_dates)\n",
    "\n",
    "# Filter the DataFrame to only include rows with the two most recent dates\n",
    "filtered_df = df[is_two_most_recent_dates]\n"
   ]
  },
  {
   "cell_type": "code",
   "execution_count": null,
   "metadata": {},
   "outputs": [],
   "source": [
    "# aggregate statistics (total number of banks, overall changes, etc.)"
   ]
  },
  {
   "cell_type": "code",
   "execution_count": 5,
   "metadata": {},
   "outputs": [],
   "source": [
    "col_types_dict = {\n",
    "    'date': ['Period'],\n",
    "    'str': ['ABN', 'Institution Name'],\n",
    "    'skip_cols': None,\n",
    "    'else_cols_as_type': 'float',\n",
    "}"
   ]
  },
  {
   "cell_type": "code",
   "execution_count": 6,
   "metadata": {},
   "outputs": [
    {
     "name": "stdout",
     "output_type": "stream",
     "text": [
      "Converting columns with type: date\n",
      "Converting columns with type: str\n"
     ]
    },
    {
     "data": {
      "text/html": [
       "<div>\n",
       "<style scoped>\n",
       "    .dataframe tbody tr th:only-of-type {\n",
       "        vertical-align: middle;\n",
       "    }\n",
       "\n",
       "    .dataframe tbody tr th {\n",
       "        vertical-align: top;\n",
       "    }\n",
       "\n",
       "    .dataframe thead th {\n",
       "        text-align: right;\n",
       "    }\n",
       "</style>\n",
       "<table border=\"1\" class=\"dataframe\">\n",
       "  <thead>\n",
       "    <tr style=\"text-align: right;\">\n",
       "      <th></th>\n",
       "      <th>Period</th>\n",
       "      <th>ABN</th>\n",
       "      <th>Institution Name</th>\n",
       "      <th>Cash and deposits with financial institutions</th>\n",
       "      <th>Trading securities</th>\n",
       "      <th>Investment securities</th>\n",
       "      <th>Net acceptances of customers</th>\n",
       "      <th>Total residents assets</th>\n",
       "      <th>Total securitised assets on balance sheet</th>\n",
       "      <th>Loans to non-financial businesses</th>\n",
       "      <th>...</th>\n",
       "      <th>Intra-group deposits</th>\n",
       "      <th>Negotiable Certificates of Deposit</th>\n",
       "      <th>Total short-term borrowings</th>\n",
       "      <th>Total long-term borrowings</th>\n",
       "      <th>Deposits by non-financial businesses</th>\n",
       "      <th>Deposits by financial institutions</th>\n",
       "      <th>Deposits by general government</th>\n",
       "      <th>Deposits by households</th>\n",
       "      <th>Deposits by community service organisations</th>\n",
       "      <th>Total residents deposits</th>\n",
       "    </tr>\n",
       "  </thead>\n",
       "  <tbody>\n",
       "    <tr>\n",
       "      <th>0</th>\n",
       "      <td>2023-12-31</td>\n",
       "      <td>48848300367</td>\n",
       "      <td>Agricultural Bank of China Limited</td>\n",
       "      <td>93.6</td>\n",
       "      <td>0.0</td>\n",
       "      <td>4806.1</td>\n",
       "      <td>0.0</td>\n",
       "      <td>8193.1</td>\n",
       "      <td>0.0</td>\n",
       "      <td>2970.7</td>\n",
       "      <td>...</td>\n",
       "      <td>0.0</td>\n",
       "      <td>1415.8</td>\n",
       "      <td>8538.5</td>\n",
       "      <td>1250.0</td>\n",
       "      <td>0.3</td>\n",
       "      <td>0.0</td>\n",
       "      <td>0.0</td>\n",
       "      <td>0.0</td>\n",
       "      <td>0.0</td>\n",
       "      <td>0.3</td>\n",
       "    </tr>\n",
       "    <tr>\n",
       "      <th>1</th>\n",
       "      <td>2023-12-31</td>\n",
       "      <td>13627244848</td>\n",
       "      <td>Alex Bank Pty Ltd</td>\n",
       "      <td>23.2</td>\n",
       "      <td>0.0</td>\n",
       "      <td>4.9</td>\n",
       "      <td>0.0</td>\n",
       "      <td>85.6</td>\n",
       "      <td>0.0</td>\n",
       "      <td>0.0</td>\n",
       "      <td>...</td>\n",
       "      <td>0.0</td>\n",
       "      <td>0.0</td>\n",
       "      <td>0.0</td>\n",
       "      <td>0.0</td>\n",
       "      <td>0.0</td>\n",
       "      <td>0.0</td>\n",
       "      <td>0.0</td>\n",
       "      <td>65.4</td>\n",
       "      <td>0.0</td>\n",
       "      <td>65.4</td>\n",
       "    </tr>\n",
       "    <tr>\n",
       "      <th>2</th>\n",
       "      <td>2023-12-31</td>\n",
       "      <td>15081596009</td>\n",
       "      <td>AMP Bank Limited</td>\n",
       "      <td>385.4</td>\n",
       "      <td>0.0</td>\n",
       "      <td>3794.5</td>\n",
       "      <td>0.0</td>\n",
       "      <td>33202.0</td>\n",
       "      <td>8565.5</td>\n",
       "      <td>544.7</td>\n",
       "      <td>...</td>\n",
       "      <td>6307.0</td>\n",
       "      <td>291.2</td>\n",
       "      <td>290.9</td>\n",
       "      <td>572.7</td>\n",
       "      <td>2560.6</td>\n",
       "      <td>1579.7</td>\n",
       "      <td>196.6</td>\n",
       "      <td>10367.7</td>\n",
       "      <td>45.8</td>\n",
       "      <td>14750.4</td>\n",
       "    </tr>\n",
       "    <tr>\n",
       "      <th>3</th>\n",
       "      <td>2023-12-31</td>\n",
       "      <td>37002950745</td>\n",
       "      <td>Arab Bank Australia Limited</td>\n",
       "      <td>78.7</td>\n",
       "      <td>0.0</td>\n",
       "      <td>243.8</td>\n",
       "      <td>0.0</td>\n",
       "      <td>1307.8</td>\n",
       "      <td>123.4</td>\n",
       "      <td>311.6</td>\n",
       "      <td>...</td>\n",
       "      <td>0.0</td>\n",
       "      <td>2.0</td>\n",
       "      <td>2.0</td>\n",
       "      <td>0.0</td>\n",
       "      <td>303.1</td>\n",
       "      <td>232.8</td>\n",
       "      <td>8.0</td>\n",
       "      <td>416.4</td>\n",
       "      <td>4.5</td>\n",
       "      <td>964.7</td>\n",
       "    </tr>\n",
       "    <tr>\n",
       "      <th>4</th>\n",
       "      <td>2023-12-31</td>\n",
       "      <td>11005357522</td>\n",
       "      <td>Australia and New Zealand Banking Group Limited</td>\n",
       "      <td>58753.7</td>\n",
       "      <td>25173.3</td>\n",
       "      <td>56281.2</td>\n",
       "      <td>79.2</td>\n",
       "      <td>724879.8</td>\n",
       "      <td>91755.4</td>\n",
       "      <td>138804.6</td>\n",
       "      <td>...</td>\n",
       "      <td>863.8</td>\n",
       "      <td>37664.3</td>\n",
       "      <td>83709.1</td>\n",
       "      <td>86927.1</td>\n",
       "      <td>129804.8</td>\n",
       "      <td>69425.9</td>\n",
       "      <td>4524.2</td>\n",
       "      <td>170416.3</td>\n",
       "      <td>4796.7</td>\n",
       "      <td>378967.9</td>\n",
       "    </tr>\n",
       "    <tr>\n",
       "      <th>...</th>\n",
       "      <td>...</td>\n",
       "      <td>...</td>\n",
       "      <td>...</td>\n",
       "      <td>...</td>\n",
       "      <td>...</td>\n",
       "      <td>...</td>\n",
       "      <td>...</td>\n",
       "      <td>...</td>\n",
       "      <td>...</td>\n",
       "      <td>...</td>\n",
       "      <td>...</td>\n",
       "      <td>...</td>\n",
       "      <td>...</td>\n",
       "      <td>...</td>\n",
       "      <td>...</td>\n",
       "      <td>...</td>\n",
       "      <td>...</td>\n",
       "      <td>...</td>\n",
       "      <td>...</td>\n",
       "      <td>...</td>\n",
       "      <td>...</td>\n",
       "    </tr>\n",
       "    <tr>\n",
       "      <th>7285</th>\n",
       "      <td>2019-03-31</td>\n",
       "      <td>67622375722</td>\n",
       "      <td>volt bank limited</td>\n",
       "      <td>1.4</td>\n",
       "      <td>0.0</td>\n",
       "      <td>12.4</td>\n",
       "      <td>0.0</td>\n",
       "      <td>19.5</td>\n",
       "      <td>0.0</td>\n",
       "      <td>0.0</td>\n",
       "      <td>...</td>\n",
       "      <td>0.0</td>\n",
       "      <td>0.0</td>\n",
       "      <td>0.0</td>\n",
       "      <td>0.0</td>\n",
       "      <td>0.1</td>\n",
       "      <td>0.3</td>\n",
       "      <td>0.0</td>\n",
       "      <td>0.0</td>\n",
       "      <td>0.0</td>\n",
       "      <td>0.3</td>\n",
       "    </tr>\n",
       "    <tr>\n",
       "      <th>7286</th>\n",
       "      <td>2019-03-31</td>\n",
       "      <td>98087651116</td>\n",
       "      <td>Warwick Credit Union Ltd</td>\n",
       "      <td>44.2</td>\n",
       "      <td>0.0</td>\n",
       "      <td>0.0</td>\n",
       "      <td>0.0</td>\n",
       "      <td>304.5</td>\n",
       "      <td>0.0</td>\n",
       "      <td>45.5</td>\n",
       "      <td>...</td>\n",
       "      <td>NaN</td>\n",
       "      <td>NaN</td>\n",
       "      <td>0.1</td>\n",
       "      <td>0.0</td>\n",
       "      <td>102.4</td>\n",
       "      <td>0.0</td>\n",
       "      <td>0.0</td>\n",
       "      <td>144.5</td>\n",
       "      <td>29.2</td>\n",
       "      <td>276.0</td>\n",
       "    </tr>\n",
       "    <tr>\n",
       "      <th>7287</th>\n",
       "      <td>2019-03-31</td>\n",
       "      <td>48087651787</td>\n",
       "      <td>WAW Credit Union Co-Operative Limited</td>\n",
       "      <td>100.6</td>\n",
       "      <td>0.0</td>\n",
       "      <td>0.6</td>\n",
       "      <td>0.0</td>\n",
       "      <td>485.0</td>\n",
       "      <td>0.0</td>\n",
       "      <td>32.6</td>\n",
       "      <td>...</td>\n",
       "      <td>NaN</td>\n",
       "      <td>NaN</td>\n",
       "      <td>0.0</td>\n",
       "      <td>0.0</td>\n",
       "      <td>54.5</td>\n",
       "      <td>5.6</td>\n",
       "      <td>30.4</td>\n",
       "      <td>329.8</td>\n",
       "      <td>26.2</td>\n",
       "      <td>446.5</td>\n",
       "    </tr>\n",
       "    <tr>\n",
       "      <th>7288</th>\n",
       "      <td>2019-03-31</td>\n",
       "      <td>33007457141</td>\n",
       "      <td>Westpac Banking Corporation</td>\n",
       "      <td>10475.0</td>\n",
       "      <td>13027.1</td>\n",
       "      <td>78573.7</td>\n",
       "      <td>0.0</td>\n",
       "      <td>852513.1</td>\n",
       "      <td>122064.6</td>\n",
       "      <td>125693.1</td>\n",
       "      <td>...</td>\n",
       "      <td>12982.8</td>\n",
       "      <td>31195.6</td>\n",
       "      <td>62295.6</td>\n",
       "      <td>147385.6</td>\n",
       "      <td>116449.9</td>\n",
       "      <td>83327.2</td>\n",
       "      <td>10779.7</td>\n",
       "      <td>212460.0</td>\n",
       "      <td>2780.4</td>\n",
       "      <td>425797.2</td>\n",
       "    </tr>\n",
       "    <tr>\n",
       "      <th>7289</th>\n",
       "      <td>2019-03-31</td>\n",
       "      <td>94150148299</td>\n",
       "      <td>Woori Bank</td>\n",
       "      <td>30.9</td>\n",
       "      <td>0.0</td>\n",
       "      <td>29.2</td>\n",
       "      <td>0.0</td>\n",
       "      <td>394.5</td>\n",
       "      <td>0.0</td>\n",
       "      <td>350.6</td>\n",
       "      <td>...</td>\n",
       "      <td>0.0</td>\n",
       "      <td>0.0</td>\n",
       "      <td>42.4</td>\n",
       "      <td>0.0</td>\n",
       "      <td>71.8</td>\n",
       "      <td>0.0</td>\n",
       "      <td>0.0</td>\n",
       "      <td>0.5</td>\n",
       "      <td>1.3</td>\n",
       "      <td>73.6</td>\n",
       "    </tr>\n",
       "  </tbody>\n",
       "</table>\n",
       "<p>7290 rows × 30 columns</p>\n",
       "</div>"
      ],
      "text/plain": [
       "          Period          ABN  \\\n",
       "0     2023-12-31  48848300367   \n",
       "1     2023-12-31  13627244848   \n",
       "2     2023-12-31  15081596009   \n",
       "3     2023-12-31  37002950745   \n",
       "4     2023-12-31  11005357522   \n",
       "...          ...          ...   \n",
       "7285  2019-03-31  67622375722   \n",
       "7286  2019-03-31  98087651116   \n",
       "7287  2019-03-31  48087651787   \n",
       "7288  2019-03-31  33007457141   \n",
       "7289  2019-03-31  94150148299   \n",
       "\n",
       "                                     Institution Name  \\\n",
       "0                  Agricultural Bank of China Limited   \n",
       "1                                   Alex Bank Pty Ltd   \n",
       "2                                    AMP Bank Limited   \n",
       "3                         Arab Bank Australia Limited   \n",
       "4     Australia and New Zealand Banking Group Limited   \n",
       "...                                               ...   \n",
       "7285                                volt bank limited   \n",
       "7286                         Warwick Credit Union Ltd   \n",
       "7287            WAW Credit Union Co-Operative Limited   \n",
       "7288                      Westpac Banking Corporation   \n",
       "7289                                       Woori Bank   \n",
       "\n",
       "      Cash and deposits with financial institutions  Trading securities  \\\n",
       "0                                              93.6                 0.0   \n",
       "1                                              23.2                 0.0   \n",
       "2                                             385.4                 0.0   \n",
       "3                                              78.7                 0.0   \n",
       "4                                           58753.7             25173.3   \n",
       "...                                             ...                 ...   \n",
       "7285                                            1.4                 0.0   \n",
       "7286                                           44.2                 0.0   \n",
       "7287                                          100.6                 0.0   \n",
       "7288                                        10475.0             13027.1   \n",
       "7289                                           30.9                 0.0   \n",
       "\n",
       "      Investment securities  Net acceptances of customers  \\\n",
       "0                    4806.1                           0.0   \n",
       "1                       4.9                           0.0   \n",
       "2                    3794.5                           0.0   \n",
       "3                     243.8                           0.0   \n",
       "4                   56281.2                          79.2   \n",
       "...                     ...                           ...   \n",
       "7285                   12.4                           0.0   \n",
       "7286                    0.0                           0.0   \n",
       "7287                    0.6                           0.0   \n",
       "7288                78573.7                           0.0   \n",
       "7289                   29.2                           0.0   \n",
       "\n",
       "      Total residents assets  Total securitised assets on balance sheet  \\\n",
       "0                     8193.1                                        0.0   \n",
       "1                       85.6                                        0.0   \n",
       "2                    33202.0                                     8565.5   \n",
       "3                     1307.8                                      123.4   \n",
       "4                   724879.8                                    91755.4   \n",
       "...                      ...                                        ...   \n",
       "7285                    19.5                                        0.0   \n",
       "7286                   304.5                                        0.0   \n",
       "7287                   485.0                                        0.0   \n",
       "7288                852513.1                                   122064.6   \n",
       "7289                   394.5                                        0.0   \n",
       "\n",
       "      Loans to non-financial businesses  ...  Intra-group deposits  \\\n",
       "0                                2970.7  ...                   0.0   \n",
       "1                                   0.0  ...                   0.0   \n",
       "2                                 544.7  ...                6307.0   \n",
       "3                                 311.6  ...                   0.0   \n",
       "4                              138804.6  ...                 863.8   \n",
       "...                                 ...  ...                   ...   \n",
       "7285                                0.0  ...                   0.0   \n",
       "7286                               45.5  ...                   NaN   \n",
       "7287                               32.6  ...                   NaN   \n",
       "7288                           125693.1  ...               12982.8   \n",
       "7289                              350.6  ...                   0.0   \n",
       "\n",
       "      Negotiable Certificates of Deposit  Total short-term borrowings  \\\n",
       "0                                 1415.8                       8538.5   \n",
       "1                                    0.0                          0.0   \n",
       "2                                  291.2                        290.9   \n",
       "3                                    2.0                          2.0   \n",
       "4                                37664.3                      83709.1   \n",
       "...                                  ...                          ...   \n",
       "7285                                 0.0                          0.0   \n",
       "7286                                 NaN                          0.1   \n",
       "7287                                 NaN                          0.0   \n",
       "7288                             31195.6                      62295.6   \n",
       "7289                                 0.0                         42.4   \n",
       "\n",
       "      Total long-term borrowings  Deposits by non-financial businesses  \\\n",
       "0                         1250.0                                   0.3   \n",
       "1                            0.0                                   0.0   \n",
       "2                          572.7                                2560.6   \n",
       "3                            0.0                                 303.1   \n",
       "4                        86927.1                              129804.8   \n",
       "...                          ...                                   ...   \n",
       "7285                         0.0                                   0.1   \n",
       "7286                         0.0                                 102.4   \n",
       "7287                         0.0                                  54.5   \n",
       "7288                    147385.6                              116449.9   \n",
       "7289                         0.0                                  71.8   \n",
       "\n",
       "      Deposits by financial institutions  Deposits by general government  \\\n",
       "0                                    0.0                             0.0   \n",
       "1                                    0.0                             0.0   \n",
       "2                                 1579.7                           196.6   \n",
       "3                                  232.8                             8.0   \n",
       "4                                69425.9                          4524.2   \n",
       "...                                  ...                             ...   \n",
       "7285                                 0.3                             0.0   \n",
       "7286                                 0.0                             0.0   \n",
       "7287                                 5.6                            30.4   \n",
       "7288                             83327.2                         10779.7   \n",
       "7289                                 0.0                             0.0   \n",
       "\n",
       "      Deposits by households  Deposits by community service organisations  \\\n",
       "0                        0.0                                          0.0   \n",
       "1                       65.4                                          0.0   \n",
       "2                    10367.7                                         45.8   \n",
       "3                      416.4                                          4.5   \n",
       "4                   170416.3                                       4796.7   \n",
       "...                      ...                                          ...   \n",
       "7285                     0.0                                          0.0   \n",
       "7286                   144.5                                         29.2   \n",
       "7287                   329.8                                         26.2   \n",
       "7288                212460.0                                       2780.4   \n",
       "7289                     0.5                                          1.3   \n",
       "\n",
       "      Total residents deposits  \n",
       "0                          0.3  \n",
       "1                         65.4  \n",
       "2                      14750.4  \n",
       "3                        964.7  \n",
       "4                     378967.9  \n",
       "...                        ...  \n",
       "7285                       0.3  \n",
       "7286                     276.0  \n",
       "7287                     446.5  \n",
       "7288                  425797.2  \n",
       "7289                      73.6  \n",
       "\n",
       "[7290 rows x 30 columns]"
      ]
     },
     "execution_count": 6,
     "metadata": {},
     "output_type": "execute_result"
    }
   ],
   "source": [
    "res=convert_columns_dict_type_allocation(\n",
    "    df=df_original.copy(),\n",
    "    col_types_dict=col_types_dict)\n",
    "res"
   ]
  },
  {
   "cell_type": "code",
   "execution_count": 9,
   "metadata": {},
   "outputs": [
    {
     "name": "stdout",
     "output_type": "stream",
     "text": [
      "Period\n",
      "ABN\n",
      "Institution Name\n",
      "Cash and deposits with financial institutions\n",
      "Trading securities\n",
      "Investment securities\n",
      "Net acceptances of customers\n",
      "Total residents assets\n",
      "Total securitised assets on balance sheet\n",
      "Loans to non-financial businesses\n",
      "Loans to financial institutions\n",
      "Loans to general government\n",
      "Loans to households: Housing: Owner-occupied\n",
      "Loans to households: Housing: Investment\n",
      "Loans to households: Credit cards\n",
      "Loans to households: Other\n",
      "Loans to community service organisations\n",
      "Total residents loans and finance leases\n",
      "Intra-group loans and finance leases\n",
      "Acceptances\n",
      "Intra-group deposits\n",
      "Negotiable Certificates of Deposit\n",
      "Total short-term borrowings\n",
      "Total long-term borrowings\n",
      "Deposits by non-financial businesses\n",
      "Deposits by financial institutions\n",
      "Deposits by general government\n",
      "Deposits by households\n",
      "Deposits by community service organisations\n",
      "Total residents deposits\n"
     ]
    }
   ],
   "source": [
    "# expected cols function (check they all exist)\n",
    "for col in df_original.columns:\n",
    "    print(col)"
   ]
  },
  {
   "cell_type": "code",
   "execution_count": 13,
   "metadata": {},
   "outputs": [],
   "source": []
  },
  {
   "cell_type": "code",
   "execution_count": 14,
   "metadata": {},
   "outputs": [],
   "source": [
    "\n"
   ]
  },
  {
   "cell_type": "code",
   "execution_count": null,
   "metadata": {},
   "outputs": [],
   "source": [
    "# logging module"
   ]
  },
  {
   "cell_type": "code",
   "execution_count": null,
   "metadata": {},
   "outputs": [],
   "source": [
    "# Melt the DataFrame to transform it into the desired format\n",
    "melted_df = pd.melt(df, id_vars=['Date'], var_name='Account', value_name='Value')\n",
    "\n",
    "# Save the transformed DataFrame to a new Excel file\n",
    "melted_df.to_excel('narrow_data.xlsx', index=False)\n",
    "\n",
    "# Display the transformed DataFrame\n",
    "print(melted_df)"
   ]
  }
 ],
 "metadata": {
  "kernelspec": {
   "display_name": "Python 3",
   "language": "python",
   "name": "python3"
  },
  "language_info": {
   "codemirror_mode": {
    "name": "ipython",
    "version": 3
   },
   "file_extension": ".py",
   "mimetype": "text/x-python",
   "name": "python",
   "nbconvert_exporter": "python",
   "pygments_lexer": "ipython3",
   "version": "3.11.7"
  }
 },
 "nbformat": 4,
 "nbformat_minor": 2
}
