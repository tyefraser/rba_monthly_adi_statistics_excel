{
 "cells": [
  {
   "cell_type": "code",
   "execution_count": 1,
   "metadata": {},
   "outputs": [
    {
     "name": "stderr",
     "output_type": "stream",
     "text": [
      "UsageError: Line magic function `%python` not found (But cell magic `%%python` exists, did you mean that instead?).\n"
     ]
    }
   ],
   "source": [
    "# Set up environment\n",
    "\n",
    "## PS> mkdir avocado_analytics\n",
    "## PS> cd avocado_analytics\n",
    "## PS> python -m venv venv\n",
    "## PS> venv\\Scripts\\activate # source venv/Scripts/activate for linux/gitbash\n",
    "\n",
    "# Load required packages\n",
    "## (venv) $ python -m pip install dash==2.8.1 pandas==1.5.3\n"
   ]
  },
  {
   "cell_type": "code",
   "execution_count": 6,
   "metadata": {},
   "outputs": [],
   "source": [
    "# %pip install openpyxl\n",
    "# %pip install --upgrade openpyxl\n",
    "# %pip install plotly\n",
    "# %pip install matplotlib\n",
    "# %pip install nbformat\n",
    "# %pip install dash # %pip install --upgrade pip\n",
    "# %pip install pyyaml\n",
    "\n",
    "%load_ext autoreload\n",
    "%autoreload 2\n",
    "\n",
    "# sys.path.insert(1, '../')"
   ]
  },
  {
   "cell_type": "code",
   "execution_count": 9,
   "metadata": {},
   "outputs": [],
   "source": [
    "import pandas as pd\n",
    "from pd_data_frame_checks import check_columns_existence\n",
    "\n",
    "from utils import read_yaml\n",
    "from pd_data_frame_checks import convert_columns_dict_type_allocation\n",
    "from process_specific_bank.process_specific_bank import specific_bank_calculations\n",
    "from rba_monthly_adi_statistics import read_and_process_data\n"
   ]
  },
  {
   "cell_type": "code",
   "execution_count": 7,
   "metadata": {},
   "outputs": [],
   "source": [
    "# Arguments\n",
    "file_name: str = 'data/Monthly authorised deposit-taking institution statistics back-series March 2019 - December 2023.xlsx'\n",
    "sheet_name: str = 'Table 1'\n",
    "skiprows: int = 1\n",
    "processes_to_run: list = ['all']\n",
    "specific_bank_names_list: str = ['Macquarie Bank Limited']\n",
    "date_column: str = 'Period'"
   ]
  },
  {
   "cell_type": "markdown",
   "metadata": {},
   "source": [
    "# Load Data"
   ]
  },
  {
   "cell_type": "code",
   "execution_count": 10,
   "metadata": {},
   "outputs": [],
   "source": [
    "# Read config\n",
    "config_dict = read_yaml(file_path = 'config.yaml')\n",
    "\n",
    "# Read and process data\n",
    "rba_monthly_stats_df = read_and_process_data(\n",
    "    config_dict=config_dict,\n",
    "    file_name=file_name,\n",
    "    sheet_name=sheet_name,\n",
    "    skiprows=skiprows,\n",
    "    date_column=date_column,        \n",
    ")\n",
    "\n",
    "# Melt the DataFrame to convert from wide to long format\n",
    "id_cols = ['Period', 'ABN', 'Institution Name']\n",
    "narrow_rba_monthly_stats_df = pd.melt(rba_monthly_stats_df, id_vars=id_cols, var_name='Variable', value_name='Value')"
   ]
  },
  {
   "cell_type": "code",
   "execution_count": null,
   "metadata": {},
   "outputs": [],
   "source": []
  },
  {
   "cell_type": "markdown",
   "metadata": {},
   "source": [
    "# Generate BB Dashboard Sections"
   ]
  },
  {
   "cell_type": "code",
   "execution_count": 16,
   "metadata": {},
   "outputs": [],
   "source": [
    "tree_data = {\n",
    "    'company': [\n",
    "        'National Australia Bank Limited',\n",
    "        'Commonwealth Bank of Australia',\n",
    "        'Westpac Banking Corporation',\n",
    "        'Australia and New Zealand Banking Group Limited',\n",
    "        'Sumitomo Mitsui Banking Corporation',\n",
    "        'MUFG Bank, Ltd.',\n",
    "        'Bank of China Limited',\n",
    "        'Macquarie Bank Limited',\n",
    "        'Rabobank Australia Limited',\n",
    "        'Bank of America, National Association',\n",
    "        'Mizuho Bank, Ltd.',\n",
    "        'Bendigo and Adelaide Bank Limited',\n",
    "        'The Hongkong and Shanghai Banking Corporation Limited',\n",
    "        'Bank of Queensland Limited',\n",
    "        'Other',\n",
    "    ],\n",
    "    'value': [\n",
    "        232723400000,\n",
    "        190350800000,\n",
    "        177694300000,\n",
    "        151317400000,\n",
    "        26930800000,\n",
    "        23784800000,\n",
    "        18791100000,\n",
    "        17528000000,\n",
    "        17073300000,\n",
    "        17609000000,\n",
    "        20204000000,\n",
    "        15945500000,\n",
    "        12774300000,\n",
    "        13902300000,\n",
    "        177265000000,\n",
    "    ],\n",
    "}\n",
    "\n",
    "tree_data_df = pd.DataFrame(tree_data)"
   ]
  },
  {
   "cell_type": "code",
   "execution_count": 17,
   "metadata": {},
   "outputs": [
    {
     "data": {
      "text/html": [
       "<div>\n",
       "<style scoped>\n",
       "    .dataframe tbody tr th:only-of-type {\n",
       "        vertical-align: middle;\n",
       "    }\n",
       "\n",
       "    .dataframe tbody tr th {\n",
       "        vertical-align: top;\n",
       "    }\n",
       "\n",
       "    .dataframe thead th {\n",
       "        text-align: right;\n",
       "    }\n",
       "</style>\n",
       "<table border=\"1\" class=\"dataframe\">\n",
       "  <thead>\n",
       "    <tr style=\"text-align: right;\">\n",
       "      <th></th>\n",
       "      <th>company</th>\n",
       "      <th>value</th>\n",
       "    </tr>\n",
       "  </thead>\n",
       "  <tbody>\n",
       "    <tr>\n",
       "      <th>0</th>\n",
       "      <td>National Australia Bank Limited</td>\n",
       "      <td>232723400000</td>\n",
       "    </tr>\n",
       "    <tr>\n",
       "      <th>1</th>\n",
       "      <td>Commonwealth Bank of Australia</td>\n",
       "      <td>190350800000</td>\n",
       "    </tr>\n",
       "    <tr>\n",
       "      <th>2</th>\n",
       "      <td>Westpac Banking Corporation</td>\n",
       "      <td>177694300000</td>\n",
       "    </tr>\n",
       "    <tr>\n",
       "      <th>3</th>\n",
       "      <td>Australia and New Zealand Banking Group Limited</td>\n",
       "      <td>151317400000</td>\n",
       "    </tr>\n",
       "    <tr>\n",
       "      <th>4</th>\n",
       "      <td>Sumitomo Mitsui Banking Corporation</td>\n",
       "      <td>26930800000</td>\n",
       "    </tr>\n",
       "    <tr>\n",
       "      <th>5</th>\n",
       "      <td>MUFG Bank, Ltd.</td>\n",
       "      <td>23784800000</td>\n",
       "    </tr>\n",
       "    <tr>\n",
       "      <th>6</th>\n",
       "      <td>Bank of China Limited</td>\n",
       "      <td>18791100000</td>\n",
       "    </tr>\n",
       "    <tr>\n",
       "      <th>7</th>\n",
       "      <td>Macquarie Bank Limited</td>\n",
       "      <td>17528000000</td>\n",
       "    </tr>\n",
       "    <tr>\n",
       "      <th>8</th>\n",
       "      <td>Rabobank Australia Limited</td>\n",
       "      <td>17073300000</td>\n",
       "    </tr>\n",
       "    <tr>\n",
       "      <th>9</th>\n",
       "      <td>Bank of America, National Association</td>\n",
       "      <td>17609000000</td>\n",
       "    </tr>\n",
       "    <tr>\n",
       "      <th>10</th>\n",
       "      <td>Mizuho Bank, Ltd.</td>\n",
       "      <td>20204000000</td>\n",
       "    </tr>\n",
       "    <tr>\n",
       "      <th>11</th>\n",
       "      <td>Bendigo and Adelaide Bank Limited</td>\n",
       "      <td>15945500000</td>\n",
       "    </tr>\n",
       "    <tr>\n",
       "      <th>12</th>\n",
       "      <td>The Hongkong and Shanghai Banking Corporation ...</td>\n",
       "      <td>12774300000</td>\n",
       "    </tr>\n",
       "    <tr>\n",
       "      <th>13</th>\n",
       "      <td>Bank of Queensland Limited</td>\n",
       "      <td>13902300000</td>\n",
       "    </tr>\n",
       "    <tr>\n",
       "      <th>14</th>\n",
       "      <td>Other</td>\n",
       "      <td>177265000000</td>\n",
       "    </tr>\n",
       "  </tbody>\n",
       "</table>\n",
       "</div>"
      ],
      "text/plain": [
       "                                              company         value\n",
       "0                     National Australia Bank Limited  232723400000\n",
       "1                      Commonwealth Bank of Australia  190350800000\n",
       "2                         Westpac Banking Corporation  177694300000\n",
       "3     Australia and New Zealand Banking Group Limited  151317400000\n",
       "4                 Sumitomo Mitsui Banking Corporation   26930800000\n",
       "5                                     MUFG Bank, Ltd.   23784800000\n",
       "6                               Bank of China Limited   18791100000\n",
       "7                              Macquarie Bank Limited   17528000000\n",
       "8                          Rabobank Australia Limited   17073300000\n",
       "9               Bank of America, National Association   17609000000\n",
       "10                                  Mizuho Bank, Ltd.   20204000000\n",
       "11                  Bendigo and Adelaide Bank Limited   15945500000\n",
       "12  The Hongkong and Shanghai Banking Corporation ...   12774300000\n",
       "13                         Bank of Queensland Limited   13902300000\n",
       "14                                              Other  177265000000"
      ]
     },
     "execution_count": 17,
     "metadata": {},
     "output_type": "execute_result"
    }
   ],
   "source": [
    "tree_data_df"
   ]
  },
  {
   "cell_type": "code",
   "execution_count": 5,
   "metadata": {},
   "outputs": [
    {
     "name": "stdout",
     "output_type": "stream",
     "text": [
      "Dash is running on http://127.0.0.1:8050/\n",
      "\n",
      "Dash is running on http://127.0.0.1:8050/\n",
      "\n",
      "Dash is running on http://127.0.0.1:8050/\n",
      "\n",
      "Dash is running on http://127.0.0.1:8050/\n",
      "\n",
      "Dash is running on http://127.0.0.1:8050/\n",
      "\n",
      " * Serving Flask app '__main__'\n",
      " * Debug mode: on\n"
     ]
    },
    {
     "ename": "SystemExit",
     "evalue": "1",
     "output_type": "error",
     "traceback": [
      "An exception has occurred, use %tb to see the full traceback.\n",
      "\u001b[1;31mSystemExit\u001b[0m\u001b[1;31m:\u001b[0m 1\n"
     ]
    },
    {
     "name": "stderr",
     "output_type": "stream",
     "text": [
      "c:\\Users\\tyewf\\Documents\\GitHub\\rba_monthly_adi_statistics_excel\\venv\\lib\\site-packages\\IPython\\core\\interactiveshell.py:3561: UserWarning: To exit: use 'exit', 'quit', or Ctrl-D.\n",
      "  warn(\"To exit: use 'exit', 'quit', or Ctrl-D.\", stacklevel=1)\n"
     ]
    }
   ],
   "source": [
    "# app.py\n",
    "\n",
    "import pandas as pd\n",
    "from dash import Dash, dcc, html\n",
    "\n",
    "data = (\n",
    "    pd.read_csv(\"avocado.csv\")\n",
    "    .query(\"type == 'conventional' and region == 'Albany'\")\n",
    "    .assign(Date=lambda data: pd.to_datetime(data[\"Date\"], format=\"%Y-%m-%d\"))\n",
    "    .sort_values(by=\"Date\")\n",
    ")\n",
    "\n",
    "app = Dash(__name__)\n",
    "\n",
    "app.layout = html.Div(\n",
    "    children=[\n",
    "        html.H1(children=\"Avocado Analytics\"),\n",
    "        html.P(\n",
    "            children=(\n",
    "                \"Analyze the behavior of avocado prices and the number\"\n",
    "                \" of avocados sold in the US between 2015 and 2018\"\n",
    "            ),\n",
    "        ),\n",
    "        dcc.Graph(\n",
    "            figure={\n",
    "                \"data\": [\n",
    "                    {\n",
    "                        \"x\": data[\"Date\"],\n",
    "                        \"y\": data[\"AveragePrice\"],\n",
    "                        \"type\": \"lines\",\n",
    "                    },\n",
    "                ],\n",
    "                \"layout\": {\"title\": \"Average Price of Avocados\"},\n",
    "            },\n",
    "        ),\n",
    "        dcc.Graph(\n",
    "            figure={\n",
    "                \"data\": [\n",
    "                    {\n",
    "                        \"x\": data[\"Date\"],\n",
    "                        \"y\": data[\"Total Volume\"],\n",
    "                        \"type\": \"lines\",\n",
    "                    },\n",
    "                ],\n",
    "                \"layout\": {\"title\": \"Avocados Sold\"},\n",
    "            },\n",
    "        ),\n",
    "    ]\n",
    ")\n",
    "\n",
    "if __name__ == \"__main__\":\n",
    "    app.run_server(debug=True)"
   ]
  },
  {
   "cell_type": "code",
   "execution_count": null,
   "metadata": {},
   "outputs": [],
   "source": [
    "# $ cd rba_monthly_adi_statistics_excel/\n",
    "# $ python rba_madis_dashboard.py\n",
    "## This then tells you the ip address to use in your url\n"
   ]
  }
 ],
 "metadata": {
  "kernelspec": {
   "display_name": "Python 3",
   "language": "python",
   "name": "python3"
  },
  "language_info": {
   "codemirror_mode": {
    "name": "ipython",
    "version": 3
   },
   "file_extension": ".py",
   "mimetype": "text/x-python",
   "name": "python",
   "nbconvert_exporter": "python",
   "pygments_lexer": "ipython3",
   "version": "3.10.11"
  }
 },
 "nbformat": 4,
 "nbformat_minor": 2
}
